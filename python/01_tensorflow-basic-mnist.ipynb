{
 "cells": [
  {
   "cell_type": "markdown",
   "metadata": {},
   "source": [
    "# TensorFlow model serving with Konduit Serving\n",
    "\n",
    "This notebook illustrates a simple client-server interaction to perform inference on a TensorFlow model using the Python SDK for Konduit Serving.\n",
    "\n",
    "This tutorial is split into two parts: \n",
    "\n",
    "1. Configuration \n",
    "2. Running the server"
   ]
  },
  {
   "cell_type": "code",
   "execution_count": 1,
   "metadata": {},
   "outputs": [
    {
     "name": "stderr",
     "output_type": "stream",
     "text": [
      "Using TensorFlow backend.\n"
     ]
    }
   ],
   "source": [
    "from konduit import ParallelInferenceConfig, ServingConfig, TensorFlowConfig, ModelConfigType\n",
    "from konduit import TensorDataTypesConfig, ModelPipelineStep, InferenceConfiguration\n",
    "from konduit.server import Server\n",
    "from konduit.client import Client\n",
    "\n",
    "import tensorflow as tf\n",
    "from tensorflow import keras\n",
    "from keras.layers import Flatten, Dense, Dropout, Lambda\n",
    "from keras.models import Sequential\n",
    "from keras.datasets import mnist\n",
    "\n",
    "from PIL import Image\n",
    "import numpy as np\n",
    "import time\n",
    "import imageio\n",
    "import os\n",
    "\n",
    "# newer versions of TensorFlow \n",
    "# from tensorflow.compat.v1 import graph_util\n",
    "# comment out the above and uncomment the following for older versions of TensorFlow \n",
    "from tensorflow import graph_util"
   ]
  },
  {
   "cell_type": "markdown",
   "metadata": {},
   "source": [
    "# Creating frozen models (Tensorflow 1.x)\n",
    "\n",
    "In TensorFlow 1.x, \"frozen\" models can be exported in the TensorFlow Graph format. For deployment, we only need information on the graph and checkpoint variables. Freezing a model allows you to discard information that is not required for deploying your model. "
   ]
  },
  {
   "cell_type": "code",
   "execution_count": 2,
   "metadata": {},
   "outputs": [
    {
     "name": "stdout",
     "output_type": "stream",
     "text": [
      "1.15.0\n"
     ]
    }
   ],
   "source": [
    "tensorflow_version = tf.__version__\n",
    "print(tensorflow_version)"
   ]
  },
  {
   "cell_type": "markdown",
   "metadata": {},
   "source": [
    "In the following code, we build a model using TensorFlow's Keras API and save it as a TensorFlow Graph. "
   ]
  },
  {
   "cell_type": "code",
   "execution_count": 3,
   "metadata": {},
   "outputs": [
    {
     "name": "stdout",
     "output_type": "stream",
     "text": [
      "WARNING:tensorflow:From C:\\Users\\Skymind AI Berhad\\AppData\\Local\\Continuum\\miniconda3\\envs\\tf_gpu\\lib\\site-packages\\tensorflow_core\\python\\ops\\resource_variable_ops.py:1630: calling BaseResourceVariable.__init__ (from tensorflow.python.ops.resource_variable_ops) with constraint is deprecated and will be removed in a future version.\n",
      "Instructions for updating:\n",
      "If using Keras pass *_constraint arguments to layers.\n",
      "WARNING:tensorflow:From C:\\Users\\Skymind AI Berhad\\AppData\\Local\\Continuum\\miniconda3\\envs\\tf_gpu\\lib\\site-packages\\keras\\backend\\tensorflow_backend.py:422: The name tf.global_variables is deprecated. Please use tf.compat.v1.global_variables instead.\n",
      "\n",
      "Epoch 1/5\n",
      "60000/60000 [==============================] - 5s 77us/step - loss: 0.6982 - accuracy: 0.8044\n",
      "Epoch 2/5\n",
      "60000/60000 [==============================] - 4s 62us/step - loss: 0.3801 - accuracy: 0.8911\n",
      "Epoch 3/5\n",
      "60000/60000 [==============================] - 4s 69us/step - loss: 0.3184 - accuracy: 0.9096\n",
      "Epoch 4/5\n",
      "60000/60000 [==============================] - 4s 71us/step - loss: 0.2792 - accuracy: 0.9198\n",
      "Epoch 5/5\n",
      "60000/60000 [==============================] - 4s 73us/step - loss: 0.2523 - accuracy: 0.9285\n",
      "10000/10000 [==============================] - 1s 75us/step\n",
      "WARNING:tensorflow:From <ipython-input-3-a8b8a2c40821>:48: convert_variables_to_constants (from tensorflow.python.framework.graph_util_impl) is deprecated and will be removed in a future version.\n",
      "Instructions for updating:\n",
      "Use `tf.compat.v1.graph_util.convert_variables_to_constants`\n",
      "WARNING:tensorflow:From C:\\Users\\Skymind AI Berhad\\AppData\\Local\\Continuum\\miniconda3\\envs\\tf_gpu\\lib\\site-packages\\tensorflow_core\\python\\framework\\graph_util_impl.py:277: extract_sub_graph (from tensorflow.python.framework.graph_util_impl) is deprecated and will be removed in a future version.\n",
      "Instructions for updating:\n",
      "Use `tf.compat.v1.graph_util.extract_sub_graph`\n",
      "INFO:tensorflow:Froze 4 variables.\n",
      "INFO:tensorflow:Converted 4 variables to const ops.\n"
     ]
    }
   ],
   "source": [
    "# Load data\n",
    "train_data, test_data = mnist.load_data()\n",
    "x_train, y_train = train_data\n",
    "x_test, y_test = test_data\n",
    "\n",
    "# Normalize\n",
    "x_train = x_train / 255.0\n",
    "x_test  = x_test / 255.0\n",
    "\n",
    "weights = None\n",
    "\n",
    "def get_model(training):\n",
    "    model = Sequential()\n",
    "    model.add(Flatten(input_shape=(28, 28)))\n",
    "    model.add(Dense(512, activation='relu'))\n",
    "    if training:\n",
    "        model.add(Dropout(0.5))\n",
    "    else:\n",
    "        model.add(Lambda(lambda x: x + 0.))\n",
    "    model.add(Dense(10, activation='softmax'))\n",
    "    model.compile(\n",
    "        optimizer='sgd', \n",
    "        loss='sparse_categorical_crossentropy', \n",
    "        metrics=['accuracy']\n",
    "    )\n",
    "    return model\n",
    "\n",
    "def train():\n",
    "    with tf.Session() as sess:\n",
    "        keras.backend.set_session(sess)\n",
    "        model = get_model(True)\n",
    "        model.fit(x_train, y_train, epochs=5)\n",
    "        global weights\n",
    "        weights = model.get_weights()\n",
    "\n",
    "def save():\n",
    "    # save model to a protobuff\n",
    "    with tf.Session() as sess:\n",
    "        keras.backend.set_session(sess)\n",
    "        model = get_model(False)\n",
    "        model.set_weights(weights)\n",
    "        model.evaluate(x_test, y_test)\n",
    "        sess.run(tf.global_variables_initializer())\n",
    "        output_node_name = model.output.name.split(':')[0]\n",
    "        output_graph_def = graph_util.convert_variables_to_constants(\n",
    "            sess, \n",
    "            sess.graph.as_graph_def(), \n",
    "            [output_node_name]\n",
    "        )\n",
    "        with tf.gfile.GFile(f\"../data/mnist/mnist_{tensorflow_version}.pb\", \"wb\") as f:\n",
    "            f.write(output_graph_def.SerializeToString())\n",
    "\n",
    "train()\n",
    "save()"
   ]
  },
  {
   "cell_type": "markdown",
   "metadata": {},
   "source": [
    "## Configuration\n",
    "\n",
    "Konduit Serving works by defining a series of \"pipeline steps\". These include operations such as \n",
    "1. Pre- or post-processing steps\n",
    "2. One or more machine learning models\n",
    "3. Transforming the output in a way that can be understood by humans\n",
    "\n",
    "If deploying your model does not require pre- nor post-processing, only one pipeline step - a machine learning model - is required. This configuration is defined using a single `ModelPipelineStep`. \n",
    "\n",
    "Before running this notebook, you should run the `build_jar.py` script and copy the JAR (`konduit.jar`) to this folder. Refer to the [Python SDK README](https://github.com/KonduitAI/konduit-serving/blob/master/python/README.md) for details. "
   ]
  },
  {
   "cell_type": "markdown",
   "metadata": {},
   "source": [
    "### Configuring `ModelPipelineStep` \n",
    "\n",
    "Define the TensorFlow configuration as a `TensorFlowConfig` object. \n",
    "\n",
    "- `tensor_data_types_config`: The TensorFlowConfig object requires a dictionary `input_data_types`. Its keys should represent column names, and the values should represent data types as strings, e.g. `\"INT32\"`. See [here](https://github.com/KonduitAI/konduit-serving/blob/master/konduit-serving-api/src/main/java/ai/konduit/serving/model/TensorDataType.java) for a list of supported data types. \n",
    "- `model_config_type`: This argument requires a `ModelConfigType` object. Specify `model_type` as `TENSORFLOW`, and `model_loading_path` to point to the location of TensorFlow weights saved in the PB file format.\n"
   ]
  },
  {
   "cell_type": "code",
   "execution_count": 4,
   "metadata": {},
   "outputs": [],
   "source": [
    "input_data_types = {'flatten_2_input': 'FLOAT'}\n",
    "\n",
    "tensorflow_config = TensorFlowConfig(\n",
    "    tensor_data_types_config = TensorDataTypesConfig(\n",
    "        input_data_types=input_data_types\n",
    "        ),\n",
    "    model_config_type = ModelConfigType(\n",
    "        model_type='TENSORFLOW',\n",
    "        model_loading_path=os.path.abspath(f'../data/mnist/mnist_{tensorflow_version}.pb')\n",
    "    )\n",
    ")"
   ]
  },
  {
   "cell_type": "markdown",
   "metadata": {},
   "source": [
    "Now that we have a `TensorFlowConfig` defined, we can define a `ModelPipelineStep`. The following parameters are specified: \n",
    "- `model_config`: pass the TensorFlowConfig object here \n",
    "- `parallel_inference_config`: specify the number of workers to run in parallel. Here, we specify `workers = 1`.\n",
    "- `input_names`:  names for the input data  \n",
    "- `output_names`: names for the output data"
   ]
  },
  {
   "cell_type": "code",
   "execution_count": 5,
   "metadata": {},
   "outputs": [],
   "source": [
    "input_names = list(input_data_types.keys())\n",
    "output_names = [\"dense_4/Softmax\"]\n",
    "\n",
    "tf_pipeline_step = ModelPipelineStep(\n",
    "    model_config=tensorflow_config,\n",
    "    parallel_inference_config=ParallelInferenceConfig(workers=1),\n",
    "    input_names=input_names,\n",
    "    output_names=output_names\n",
    ")"
   ]
  },
  {
   "cell_type": "markdown",
   "metadata": {},
   "source": [
    "### Configuring the server\n",
    "\n",
    "Specify the following:\n",
    "- `http_port`: select a random port.\n",
    "- `input_data_type`, `output_data_type`: Specify input and output data types as strings. \n",
    "\n",
    "<div class=\"alert alert-info\">\n",
    "ℹ Accepted input and output data types are as follows: \n",
    "    <ul>\n",
    "        <li> Input: JSON, ARROW, IMAGE, ND4J (not yet implemented) and NUMPY. </li>\n",
    "        <li> Output: NUMPY, JSON, ND4J (not yet implemented) and ARROW.</li>\n",
    "    </ul>\n",
    "</div>"
   ]
  },
  {
   "cell_type": "code",
   "execution_count": 6,
   "metadata": {},
   "outputs": [],
   "source": [
    "port = np.random.randint(1000, 65535)\n",
    "serving_config = ServingConfig(\n",
    "    http_port=port,\n",
    "    input_data_type='NUMPY',\n",
    "    output_data_type='NUMPY'\n",
    ")"
   ]
  },
  {
   "cell_type": "markdown",
   "metadata": {},
   "source": [
    "The `ServingConfig` has to be passed to `InferenceConfiguration`, in addition to the pipeline steps as a Python list. In this case, there is a single pipeline step: `tf_pipeline_step`. "
   ]
  },
  {
   "cell_type": "code",
   "execution_count": 7,
   "metadata": {},
   "outputs": [],
   "source": [
    "server = Server(\n",
    "    config=InferenceConfiguration(\n",
    "        serving_config=serving_config,\n",
    "        pipeline_steps=[tf_pipeline_step]\n",
    "    )\n",
    ")"
   ]
  },
  {
   "cell_type": "markdown",
   "metadata": {},
   "source": [
    "By default, `Server()` looks for the Konduit Serving JAR `konduit.jar` in the directory the script is run in. To change this default, use the `jar_path` argument."
   ]
  },
  {
   "cell_type": "markdown",
   "metadata": {},
   "source": [
    "The configuration is stored as a dictionary. Note that the configuration can be converted to a dictionary using the `as_dict()` method: "
   ]
  },
  {
   "cell_type": "code",
   "execution_count": 8,
   "metadata": {},
   "outputs": [
    {
     "data": {
      "text/plain": [
       "{'@type': 'InferenceConfiguration',\n",
       " 'pipelineSteps': [{'@type': 'ModelPipelineStep',\n",
       "   'inputNames': ['flatten_2_input'],\n",
       "   'outputNames': ['dense_4/Softmax'],\n",
       "   'modelConfig': {'@type': 'TensorFlowConfig',\n",
       "    'tensorDataTypesConfig': {'@type': 'TensorDataTypesConfig',\n",
       "     'inputDataTypes': {'flatten_2_input': 'FLOAT'}},\n",
       "    'modelConfigType': {'@type': 'ModelConfigType',\n",
       "     'modelType': 'TENSORFLOW',\n",
       "     'modelLoadingPath': 'C:\\\\Users\\\\Skymind AI Berhad\\\\Documents\\\\konduit-serving-examples\\\\data\\\\mnist\\\\mnist_1.15.0.pb'}},\n",
       "   'parallelInferenceConfig': {'@type': 'ParallelInferenceConfig',\n",
       "    'workers': 1}}],\n",
       " 'servingConfig': {'@type': 'ServingConfig',\n",
       "  'httpPort': 38622,\n",
       "  'inputDataType': 'NUMPY',\n",
       "  'outputDataType': 'NUMPY'}}"
      ]
     },
     "execution_count": 8,
     "metadata": {},
     "output_type": "execute_result"
    }
   ],
   "source": [
    "server.config.as_dict()"
   ]
  },
  {
   "cell_type": "markdown",
   "metadata": {},
   "source": [
    "### Configuring the client \n",
    "\n",
    "To configure the client, create a Client object with the following arguments: \n",
    "- `input_names`: names of the input data\n",
    "- `output_names`: names of the output data\n",
    "- `input_type`: data type passed to the server for inference\n",
    "- `endpoint_output_type`: data type returned by the server endpoint \n",
    "- `return_output_type`: data type to be returned to the client. Note that this argument can be used to convert the output returned from the server to the client into a different format, e.g. NUMPY to JSON.\n",
    "\n",
    "\n",
    "<div class=\"alert alert-warning\">\n",
    "    ⚠ Future versions of the Python SDK may remove the <code>input_names</code> and <code>output_names</code> arguments in <code>Client()</code>, since these are already specified in <code>ModelPipelineStep()</code>. \n",
    "</div>"
   ]
  },
  {
   "cell_type": "code",
   "execution_count": 9,
   "metadata": {},
   "outputs": [],
   "source": [
    "client = Client(\n",
    "    input_names=input_names,\n",
    "    output_names=output_names,\n",
    "    input_type='NUMPY',\n",
    "    endpoint_output_type='NUMPY',\n",
    "    return_output_type=\"NUMPY\",\n",
    "    url='http://localhost:' + str(port)\n",
    ")"
   ]
  },
  {
   "cell_type": "markdown",
   "metadata": {},
   "source": [
    "## Running the server "
   ]
  },
  {
   "cell_type": "markdown",
   "metadata": {},
   "source": [
    "Load some sample data from NumPy files. Note that these are NumPy arrays, each with shape (4, 128): "
   ]
  },
  {
   "cell_type": "code",
   "execution_count": 10,
   "metadata": {},
   "outputs": [],
   "source": [
    "read_image = lambda x: np.array(imageio.imread(f\"../data/mnist/img_{x}.jpg\")).astype(np.float)\n",
    "imgs = list(map(read_image, np.arange(1, 2)))"
   ]
  },
  {
   "cell_type": "code",
   "execution_count": 11,
   "metadata": {},
   "outputs": [],
   "source": [
    "data_input = {'flatten_2_input': np.array(imgs)}"
   ]
  },
  {
   "cell_type": "markdown",
   "metadata": {},
   "source": [
    "Start the server and wait 60 seconds for the server to start before the client requests the server for a prediction using the `data_input`. "
   ]
  },
  {
   "cell_type": "code",
   "execution_count": 12,
   "metadata": {},
   "outputs": [
    {
     "name": "stdout",
     "output_type": "stream",
     "text": [
      "Wrote config.json to path C:\\Users\\Skymind AI Berhad\\Documents\\konduit-serving-examples\\python\\config.json\n",
      "Running with args\n",
      "java -cp konduit.jar ai.konduit.serving.configprovider.KonduitServingMain --configPath C:\\Users\\Skymind AI Berhad\\Documents\\konduit-serving-examples\\python\\config.json --verticleClassName ai.konduit.serving.verticles.inference.InferenceVerticle\n",
      "[[0.0000000e+00 0.0000000e+00 0.0000000e+00 0.0000000e+00 0.0000000e+00\n",
      "  0.0000000e+00 4.9768599e-19 2.3164934e-13 0.0000000e+00 1.0000000e+00]]\n"
     ]
    }
   ],
   "source": [
    "server.start()\n",
    "time.sleep(30)\n",
    "\n",
    "predicted = client.predict(data_input)\n",
    "print(predicted)\n",
    "\n",
    "server.stop()"
   ]
  }
 ],
 "metadata": {
  "kernelspec": {
   "display_name": "Python 3",
   "language": "python",
   "name": "python3"
  },
  "language_info": {
   "codemirror_mode": {
    "name": "ipython",
    "version": 3
   },
   "file_extension": ".py",
   "mimetype": "text/x-python",
   "name": "python",
   "nbconvert_exporter": "python",
   "pygments_lexer": "ipython3",
   "version": "3.7.3"
  }
 },
 "nbformat": 4,
 "nbformat_minor": 4
}
