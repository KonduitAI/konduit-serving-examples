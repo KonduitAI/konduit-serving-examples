{
 "cells": [
  {
   "cell_type": "markdown",
   "metadata": {},
   "source": [
    "# Serve an image classification model built in Deeplearning4j with Konduit Serving"
   ]
  },
  {
   "cell_type": "markdown",
   "metadata": {},
   "source": [
    "This notebook illustrates a simple client-server interaction to perform inference on a Deeplearning4j image classification model using the Python SDK for Konduit Serving.\n"
   ]
  },
  {
   "cell_type": "code",
   "execution_count": 1,
   "metadata": {},
   "outputs": [],
   "source": [
    "from konduit import ModelConfig, TensorDataTypesConfig, ModelConfigType, ModelPipelineStep, ParallelInferenceConfig, \\\n",
    "ServingConfig, InferenceConfiguration\n",
    "\n",
    "from konduit.server import Server\n",
    "from konduit.client import Client\n",
    "import numpy as np \n",
    "\n",
    "import time\n",
    "import os "
   ]
  },
  {
   "cell_type": "markdown",
   "metadata": {},
   "source": [
    "## Saving models in Deeplearning4j \n",
    "The following is a short Java program that loads a simple CNN model from Deeplearning4j's model zoo, initializes weights, then saves the model to a new file, \"SimpleCNN.zip\". \n"
   ]
  },
  {
   "cell_type": "markdown",
   "metadata": {},
   "source": [
    "```java\n",
    "import org.deeplearning4j.nn.conf.MultiLayerConfiguration;\n",
    "import org.deeplearning4j.nn.multilayer.MultiLayerNetwork;\n",
    "import org.deeplearning4j.zoo.ZooModel;\n",
    "import org.deeplearning4j.zoo.model.SimpleCNN;\n",
    "\n",
    "import java.io.File;\n",
    "\n",
    "public class SaveSimpleCNN {\n",
    "    private static int nClasses = 5;\n",
    "    private static boolean saveUpdater = false;\n",
    "\n",
    "    public static void main(String[] args) throws Exception {\n",
    "        ZooModel zooModel = SimpleCNN.builder()\n",
    "            .numClasses(nClasses)\n",
    "            .inputShape(new int[]{3, 224, 224})\n",
    "            .build();\n",
    "        MultiLayerConfiguration conf = ((SimpleCNN) zooModel).conf();\n",
    "        MultiLayerNetwork net = new MultiLayerNetwork(conf);\n",
    "        net.init();\n",
    "        System.out.println(net.summary());\n",
    "        File locationToSave = new File(\"SimpleCNN.zip\");\n",
    "        net.save(locationToSave, saveUpdater);\n",
    "    }\n",
    "}\n",
    "\n",
    "```\n",
    "\n",
    "A reference Java project using Deeplearning4j 1.0.0-beta5 is provided in this repository with a Maven `pom.xml` dependencies file. If using the IntelliJ IDEA IDE, open the `java` folder as a Maven project and run the `main` function of the `SaveSimpleCNN` class. "
   ]
  },
  {
   "cell_type": "markdown",
   "metadata": {},
   "source": [
    "## Configuring the server \n",
    "\n",
    "In the code, we recognised that SimpleCNN is configured as a MultiLayerNetwork, in contrast with the ComputationGraph class, which is used for more complex networks. Pass this to the `model_type` argument in `ModelConfigType`. \n",
    "\n",
    "Note that Konduit Serving configurations require `input_names` and `output_names`. To find the names of input and output nodes in Deeplearning4j, \n",
    "- for `input_names`, print the first element of `net.getLayerNames()`.\n",
    "- for `output_names`, check the last layer when printing `net.summary()`. "
   ]
  },
  {
   "cell_type": "code",
   "execution_count": 2,
   "metadata": {},
   "outputs": [],
   "source": [
    "input_data_types = {\"image_array\": \"FLOAT\"}\n",
    "input_names = list(input_data_types.keys())\n",
    "output_names = [\"output\"]\n",
    "port = np.random.randint(1000, 65535)\n",
    "\n",
    "dl4j_config = ModelConfig(\n",
    "    tensor_data_types_config=TensorDataTypesConfig(\n",
    "        input_data_types=input_data_types\n",
    "    ), \n",
    "    model_config_type=ModelConfigType(\n",
    "        model_type=\"MULTI_LAYER_NETWORK\", \n",
    "        model_loading_path=os.path.abspath(\"../data/multilayernetwork/SimpleCNN.zip\")\n",
    "    )\n",
    ")"
   ]
  },
  {
   "cell_type": "markdown",
   "metadata": {},
   "source": [
    "The remaining configurations are similar to how you would configure a TensorFlow model for serving. "
   ]
  },
  {
   "cell_type": "code",
   "execution_count": 3,
   "metadata": {},
   "outputs": [],
   "source": [
    "dl4j_pipeline_step = ModelPipelineStep(\n",
    "    model_config=dl4j_config,\n",
    "    parallel_inference_config=ParallelInferenceConfig(workers=1),\n",
    "    input_names=input_names,\n",
    "    output_names=output_names\n",
    ")"
   ]
  },
  {
   "cell_type": "code",
   "execution_count": 4,
   "metadata": {},
   "outputs": [],
   "source": [
    "serving_config = ServingConfig(\n",
    "    http_port=port,\n",
    "    input_data_type='NUMPY',\n",
    "    output_data_type='NUMPY'\n",
    ")"
   ]
  },
  {
   "cell_type": "code",
   "execution_count": 5,
   "metadata": {},
   "outputs": [],
   "source": [
    "server = Server(\n",
    "    config=InferenceConfiguration(\n",
    "        serving_config=serving_config,\n",
    "        pipeline_steps=[dl4j_pipeline_step]\n",
    "    )\n",
    ")"
   ]
  },
  {
   "cell_type": "markdown",
   "metadata": {},
   "source": [
    "## Running the server"
   ]
  },
  {
   "cell_type": "markdown",
   "metadata": {},
   "source": [
    "We generate a (3, 224, 224) array of random numbers between 0 and 255 as input to the model for prediction. Before requesting for a prediction, we normalize the image to be between 0 and 1: "
   ]
  },
  {
   "cell_type": "code",
   "execution_count": 6,
   "metadata": {},
   "outputs": [],
   "source": [
    "rand_image = np.random.randint(255, size=(3, 224, 224)) / 255\n",
    "# note - documentation on how to determine the required shape will be helpful. "
   ]
  },
  {
   "cell_type": "code",
   "execution_count": 7,
   "metadata": {},
   "outputs": [],
   "source": [
    "client = Client(\n",
    "    input_names=input_names,\n",
    "    output_names=output_names,\n",
    "    input_type='NUMPY',\n",
    "    endpoint_output_type='NUMPY',\n",
    "    return_output_type=\"NUMPY\",\n",
    "    url='http://localhost:' + str(port)\n",
    ")"
   ]
  },
  {
   "cell_type": "code",
   "execution_count": 8,
   "metadata": {},
   "outputs": [
    {
     "name": "stdout",
     "output_type": "stream",
     "text": [
      "Wrote config.json to path C:\\Users\\Skymind AI Berhad\\Documents\\konduit-serving-examples\\python\\config.json\n",
      "Running with args\n",
      "java -cp konduit.jar ai.konduit.serving.configprovider.KonduitServingMain --configPath C:\\Users\\Skymind AI Berhad\\Documents\\konduit-serving-examples\\python\\config.json --verticleClassName ai.konduit.serving.verticles.inference.InferenceVerticle\n"
     ]
    },
    {
     "name": "stderr",
     "output_type": "stream",
     "text": [
      "C:\\Users\\Skymind AI Berhad\\AppData\\Local\\Continuum\\miniconda3\\lib\\site-packages\\konduit-0.1.1-py3.7.egg\\konduit\\client.py:151: FutureWarning: Possible nested set at position 3\n"
     ]
    },
    {
     "name": "stdout",
     "output_type": "stream",
     "text": [
      "[[2.7756006e-02 3.7494433e-01 2.2917205e-02 3.7529669e-05 5.7434499e-01]]\n"
     ]
    }
   ],
   "source": [
    "server.start()\n",
    "time.sleep(30)\n",
    "\n",
    "prediction = client.predict({\"image_array\": rand_image})\n",
    "print(prediction)\n",
    "\n",
    "server.stop()"
   ]
  }
 ],
 "metadata": {
  "kernelspec": {
   "display_name": "Python 3",
   "language": "python",
   "name": "python3"
  },
  "language_info": {
   "codemirror_mode": {
    "name": "ipython",
    "version": 3
   },
   "file_extension": ".py",
   "mimetype": "text/x-python",
   "name": "python",
   "nbconvert_exporter": "python",
   "pygments_lexer": "ipython3",
   "version": "3.7.3"
  }
 },
 "nbformat": 4,
 "nbformat_minor": 4
}
