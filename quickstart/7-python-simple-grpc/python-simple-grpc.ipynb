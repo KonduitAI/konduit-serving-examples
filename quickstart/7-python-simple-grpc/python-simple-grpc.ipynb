{
 "cells": [
  {
   "cell_type": "markdown",
   "metadata": {},
   "source": [
    "### View directory structure\n",
    "The following files are present in our simple python script demo"
   ]
  },
  {
   "cell_type": "code",
   "execution_count": 2,
   "metadata": {},
   "outputs": [
    {
     "name": "stdout",
     "output_type": "stream",
     "text": [
      "Current directory /home/skymind/shams/konduit-serving-examples/quickstart/7-python-simple-grpc\n",
      ".\n",
      "├── init_script.py\n",
      "├── python-grpc.yaml\n",
      "├── python-simple-grpc.ipynb\n",
      "└── run_script.py\n",
      "\n",
      "0 directories, 4 files\n"
     ]
    }
   ],
   "source": [
    "%%bash\n",
    "echo \"Current directory $(pwd)\" && tree"
   ]
  },
  {
   "cell_type": "markdown",
   "metadata": {},
   "source": [
    "### Viewing script content\n",
    "The scripts contain a simple initialization script for an add function which loads the main function in the `init_script.py` and executes the incoming input through `run_script.py`"
   ]
  },
  {
   "cell_type": "code",
   "execution_count": 3,
   "metadata": {},
   "outputs": [
    {
     "name": "stdout",
     "output_type": "stream",
     "text": [
      "def add_function(x, y):\n",
      "    return x + y\n"
     ]
    }
   ],
   "source": [
    "%%bash\n",
    "less init_script.py"
   ]
  },
  {
   "cell_type": "code",
   "execution_count": 3,
   "metadata": {},
   "outputs": [
    {
     "name": "stdout",
     "output_type": "stream",
     "text": [
      "c = add_function(a, b)\n",
      "\n"
     ]
    }
   ],
   "source": [
    "%%bash\n",
    "less run_script.py"
   ]
  },
  {
   "cell_type": "markdown",
   "metadata": {},
   "source": [
    "### Viewing the main configuration for the python file\n",
    "The main configuration should define the inputs as `a` and `b` and the output as `c`, just as we've showed in the `run_script.py`: "
   ]
  },
  {
   "cell_type": "code",
   "execution_count": 4,
   "metadata": {},
   "outputs": [
    {
     "name": "stdout",
     "output_type": "stream",
     "text": [
      "---\n",
      "host: \"0.0.0.0\"\n",
      "pipeline:\n",
      "  steps:\n",
      "  - '@type': \"PYTHON\"\n",
      "    python_config:\n",
      "      append_type: \"BEFORE\"\n",
      "      extra_inputs: {}\n",
      "      import_code_path: \"init_script.py\"\n",
      "      python_code_path: \"run_script.py\"\n",
      "      io_inputs:\n",
      "        a:\n",
      "          python_type: \"float\"\n",
      "          secondary_type: \"NONE\"\n",
      "          type: \"DOUBLE\"\n",
      "        b:\n",
      "          python_type: \"float\"\n",
      "          secondary_type: \"NONE\"\n",
      "          type: \"DOUBLE\"\n",
      "      io_outputs:\n",
      "        c:\n",
      "          python_type: \"float\"\n",
      "          secondary_type: \"NONE\"\n",
      "          type: \"DOUBLE\"\n",
      "      job_suffix: \"konduit_job\"\n",
      "      python_config_type: \"CONDA\"\n",
      "      python_path: \"1\"\n",
      "      environment_name: \"base\"\n",
      "      python_path_resolution: \"STATIC\"\n",
      "      python_inputs: {}\n",
      "      python_outputs: {}\n",
      "      return_all_inputs: false\n",
      "      setup_and_run: false\n",
      "port: 8082\n",
      "protocol: \"GRPC\"\n"
     ]
    }
   ],
   "source": [
    "%%bash\n",
    "less python-grpc.yaml"
   ]
  },
  {
   "cell_type": "markdown",
   "metadata": {},
   "source": [
    "### Using the configuration to start a server\n",
    "Now we can use the `konduit serve` command to start the server with the given files and configurations"
   ]
  },
  {
   "cell_type": "code",
   "execution_count": 8,
   "metadata": {
    "pycharm": {
     "name": "#%%\n"
    }
   },
   "outputs": [
    {
     "name": "stdout",
     "output_type": "stream",
     "text": [
      "Starting konduit server...\n",
      "Expected classpath: /home/skymind/shams/konduit-serving/konduit-serving-tar/target/konduit-serving-tar-0.1.0-SNAPSHOT-dist/bin/../konduit.jar\n",
      "INFO: Running command /home/skymind/miniconda3/envs/shams/jre/bin/java -Dkonduit.logs.file.path=/home/skymind/.konduit-serving/command_logs/python-grpc.log -Dlogback.configurationFile=/home/skymind/shams/konduit-serving/konduit-serving-tar/target/konduit-serving-tar-0.1.0-SNAPSHOT-dist/bin/../conf/logback-run_command.xml -cp /home/skymind/shams/konduit-serving/konduit-serving-tar/target/konduit-serving-tar-0.1.0-SNAPSHOT-dist/bin/../konduit.jar ai.konduit.serving.cli.launcher.KonduitServingLauncher run --instances 1 -s inference -c python-grpc.yaml -Dserving.id=python-grpc\n",
      "For server status, execute: 'konduit list'\n",
      "For logs, execute: 'konduit logs python-grpc'\n"
     ]
    }
   ],
   "source": [
    "%%bash\n",
    "konduit serve -rwm --config python-grpc.yaml -id python-grpc --background"
   ]
  },
  {
   "cell_type": "markdown",
   "metadata": {},
   "source": [
    "### Listing the servers\n",
    "We can list the created servers with `konduit list` command"
   ]
  },
  {
   "cell_type": "code",
   "execution_count": 9,
   "metadata": {},
   "outputs": [
    {
     "name": "stdout",
     "output_type": "stream",
     "text": [
      "\n",
      "Listing konduit servers...\n",
      "\n",
      " #   | ID                             | TYPE       | URL                  | PID     | STATUS     \n",
      " 1   | python-grpc                    | inference  | 0.0.0.0:8082         | 74667   | started    \n",
      "\n"
     ]
    }
   ],
   "source": [
    "%%bash\n",
    "konduit list"
   ]
  },
  {
   "cell_type": "markdown",
   "metadata": {},
   "source": [
    "### Viewing logs\n",
    "Logs can be viewed for the server with an id of `server` through running `konduit logs server ..` command"
   ]
  },
  {
   "cell_type": "code",
   "execution_count": 10,
   "metadata": {},
   "outputs": [
    {
     "name": "stdout",
     "output_type": "stream",
     "text": [
      "11:23:55.271 [main] INFO  a.k.s.c.l.command.KonduitRunCommand - Processing configuration: /home/skymind/shams/konduit-serving-examples/quickstart/7-python-simple-grpc/python-grpc.yaml\n",
      "11:23:55.277 [main] INFO  u.o.l.s.context.SysOutOverSLF4J - Replaced standard System.out and System.err PrintStreams with SLF4JPrintStreams\n",
      "11:23:55.279 [main] INFO  u.o.l.s.context.SysOutOverSLF4J - Redirected System.out and System.err to SLF4J for this context\n",
      "11:23:55.279 [main] INFO  a.k.s.c.l.command.KonduitRunCommand - Starting konduit server with an id of 'python-grpc'\n",
      "11:23:55.279 [main] INFO  a.k.s.c.l.command.KonduitRunCommand - Using classpath: '/home/skymind/shams/konduit-serving/konduit-serving-tar/target/konduit-serving-tar-0.1.0-SNAPSHOT-dist/bin/../konduit.jar'\n",
      "11:23:55.743 [vert.x-worker-thread-0] INFO  a.k.s.p.registry.PipelineRegistry - Loaded 28 PipelineStepRunnerFactory instances\n",
      "11:23:56.140 [vert.x-worker-thread-0] INFO  a.k.serving.python.PythonRunner - Over riding python path :/home/skymind/miniconda3/lib/python39.zip:/home/skymind/miniconda3/lib/python3.9:/home/skymind/miniconda3/lib/python3.9/lib-dynload:/home/skymind/miniconda3/lib/python3.9/site-packages\n",
      "11:23:57.889 [vert.x-worker-thread-0] INFO  a.k.serving.python.PythonRunner - Resolving execution code from run_script.py\n",
      "11:23:57.889 [vert.x-worker-thread-0] INFO  a.k.serving.python.PythonRunner - Resolving import code from init_script.py\n",
      "11:23:57.889 [vert.x-worker-thread-0] INFO  org.nd4j.python4j.PythonGIL - Pre Gil State ensure for thread 25\n",
      "11:23:57.889 [vert.x-worker-thread-0] INFO  org.nd4j.python4j.PythonGIL - Thread 25 acquired GIL\n",
      "11:23:57.916 [vert.x-worker-thread-0] INFO  org.nd4j.python4j.PythonGIL - Releasing GIL on thread 25\n",
      "11:23:57.916 [vert.x-worker-thread-0] INFO  a.k.s.v.verticle.InferenceVerticle - \n",
      "\n",
      "####################################################################\n",
      "#                                                                  #\n",
      "#    |  /   _ \\   \\ |  _ \\  |  | _ _| __ __|    |  /     |  /      #\n",
      "#    . <   (   | .  |  |  | |  |   |     |      . <      . <       #\n",
      "#   _|\\_\\ \\___/ _|\\_| ___/ \\__/  ___|   _|     _|\\_\\ _) _|\\_\\ _)   #\n",
      "#                                                                  #\n",
      "####################################################################\n",
      "\n",
      "11:23:57.916 [vert.x-worker-thread-0] INFO  a.k.s.v.verticle.InferenceVerticle - Pending server start, please wait...\n",
      "11:23:58.035 [vert.x-eventloop-thread-0] INFO  a.k.s.v.verticle.InferenceVerticle - Writing inspection data at '/home/skymind/.konduit-serving/servers/74667.data' with configuration: \n",
      "{\n",
      "  \"host\" : \"0.0.0.0\",\n",
      "  \"port\" : 8082,\n",
      "  \"useSsl\" : false,\n",
      "  \"protocol\" : \"GRPC\",\n",
      "  \"staticContentRoot\" : \"static-content\",\n",
      "  \"staticContentUrl\" : \"/static-content\",\n",
      "  \"staticContentIndexPage\" : \"/index.html\",\n",
      "  \"kafkaConfiguration\" : {\n",
      "    \"startHttpServerForKafka\" : true,\n",
      "    \"httpKafkaHost\" : \"localhost\",\n",
      "    \"httpKafkaPort\" : 0,\n",
      "    \"consumerTopicName\" : \"inference-in\",\n",
      "    \"consumerKeyDeserializerClass\" : \"io.vertx.kafka.client.serialization.JsonObjectDeserializer\",\n",
      "    \"consumerValueDeserializerClass\" : \"io.vertx.kafka.client.serialization.JsonObjectDeserializer\",\n",
      "    \"consumerGroupId\" : \"konduit-serving-consumer-group\",\n",
      "    \"consumerAutoOffsetReset\" : \"earliest\",\n",
      "    \"consumerAutoCommit\" : \"true\",\n",
      "    \"producerTopicName\" : \"inference-out\",\n",
      "    \"producerKeySerializerClass\" : \"io.vertx.kafka.client.serialization.JsonObjectSerializer\",\n",
      "    \"producerValueSerializerClass\" : \"io.vertx.kafka.client.serialization.JsonObjectSerializer\",\n",
      "    \"producerAcks\" : \"1\"\n",
      "  },\n",
      "  \"mqttConfiguration\" : { },\n",
      "  \"customEndpoints\" : [ ],\n",
      "  \"pipeline\" : {\n",
      "    \"steps\" : [ {\n",
      "      \"@type\" : \"PYTHON\",\n",
      "      \"pythonConfig\" : {\n",
      "        \"pythonConfigType\" : \"CONDA\",\n",
      "        \"pythonPath\" : \"1\",\n",
      "        \"environmentName\" : \"base\",\n",
      "        \"appendType\" : \"BEFORE\",\n",
      "        \"pythonPathResolution\" : \"STATIC\",\n",
      "        \"pythonCodePath\" : \"run_script.py\",\n",
      "        \"pythonLibrariesPath\" : \":/home/skymind/miniconda3/lib/python39.zip:/home/skymind/miniconda3/lib/python3.9:/home/skymind/miniconda3/lib/python3.9/lib-dynload:/home/skymind/miniconda3/lib/python3.9/site-packages\",\n",
      "        \"importCodePath\" : \"init_script.py\",\n",
      "        \"pythonInputs\" : { },\n",
      "        \"pythonOutputs\" : { },\n",
      "        \"extraInputs\" : { },\n",
      "        \"returnAllInputs\" : false,\n",
      "        \"setupAndRun\" : false,\n",
      "        \"ioInputs\" : {\n",
      "          \"a\" : {\n",
      "            \"pythonType\" : \"float\",\n",
      "            \"secondaryType\" : \"NONE\",\n",
      "            \"type\" : \"DOUBLE\"\n",
      "          },\n",
      "          \"b\" : {\n",
      "            \"pythonType\" : \"float\",\n",
      "            \"secondaryType\" : \"NONE\",\n",
      "            \"type\" : \"DOUBLE\"\n",
      "          }\n",
      "        },\n",
      "        \"ioOutputs\" : {\n",
      "          \"c\" : {\n",
      "            \"pythonType\" : \"float\",\n",
      "            \"secondaryType\" : \"NONE\",\n",
      "            \"type\" : \"DOUBLE\"\n",
      "          }\n",
      "        },\n",
      "        \"jobSuffix\" : \"konduit_job\"\n",
      "      }\n",
      "    } ]\n",
      "  }\n",
      "}\n",
      "11:23:58.036 [vert.x-eventloop-thread-0] INFO  a.k.s.v.p.g.v.InferenceVerticleGrpc - Inference gRPC server is listening on host: '0.0.0.0'\n",
      "11:23:58.036 [vert.x-eventloop-thread-0] INFO  a.k.s.v.p.g.v.InferenceVerticleGrpc - Inference gRPC server started on port 8082 with 1 pipeline steps\n"
     ]
    }
   ],
   "source": [
    "%%bash\n",
    "konduit logs python-grpc --lines 1000"
   ]
  },
  {
   "cell_type": "markdown",
   "metadata": {},
   "source": [
    "### Sending inputs\n",
    "Now we can send in inputs for inferring the output"
   ]
  },
  {
   "cell_type": "code",
   "execution_count": 11,
   "metadata": {},
   "outputs": [
    {
     "name": "stdout",
     "output_type": "stream",
     "text": [
      "{\n",
      "  \"c\" : 3.0\n",
      "}"
     ]
    }
   ],
   "source": [
    "%%bash\n",
    "konduit predict python-grpc '{\"a\":1,\"b\":2}'"
   ]
  },
  {
   "cell_type": "code",
   "execution_count": 12,
   "metadata": {},
   "outputs": [
    {
     "name": "stdout",
     "output_type": "stream",
     "text": [
      "Stopping konduit server 'python-grpc'\n",
      "Application 'python-grpc' terminated with status 0\n"
     ]
    }
   ],
   "source": [
    "%%bash\n",
    "konduit stop python-grpc"
   ]
  },
  {
   "cell_type": "code",
   "execution_count": null,
   "metadata": {},
   "outputs": [],
   "source": []
  }
 ],
 "metadata": {
  "kernelspec": {
   "display_name": "Python 3",
   "language": "python",
   "name": "python3"
  },
  "language_info": {
   "codemirror_mode": {
    "name": "ipython",
    "version": 3
   },
   "file_extension": ".py",
   "mimetype": "text/x-python",
   "name": "python",
   "nbconvert_exporter": "python",
   "pygments_lexer": "ipython3",
   "version": "3.7.10"
  },
  "toc": {
   "base_numbering": 1,
   "nav_menu": {},
   "number_sections": false,
   "sideBar": false,
   "skip_h1_title": false,
   "title_cell": "Table of Contents",
   "title_sidebar": "Contents",
   "toc_cell": false,
   "toc_position": {},
   "toc_section_display": false,
   "toc_window_display": false
  }
 },
 "nbformat": 4,
 "nbformat_minor": 4
}
