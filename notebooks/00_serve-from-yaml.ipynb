{
 "cells": [
  {
   "cell_type": "markdown",
   "metadata": {},
   "source": [
    "# Model Serving with the Python CLI \n",
    "\n",
    "The Konduit Python CLI provides a quick way to build model serving configuration. You can do this with YAML files. \n",
    "\n"
   ]
  },
  {
   "cell_type": "markdown",
   "metadata": {},
   "source": [
    "```yaml\n",
    "serving:\n",
    "  http_port: 1337\n",
    "  input_data_format: NUMPY\n",
    "  output_data_format: NUMPY\n",
    "  log_timings: True\n",
    "  extra_start_args: -Xmx8g\n",
    "steps:\n",
    "  python_step:\n",
    "    type: PYTHON\n",
    "    python_path: .\n",
    "    python_code_path: ./simple.py\n",
    "    python_inputs:\n",
    "      first: NDARRAY\n",
    "    python_outputs:\n",
    "      second: NDARRAY\n",
    "client:\n",
    "    port: 1337\n",
    "```\n"
   ]
  },
  {
   "cell_type": "markdown",
   "metadata": {},
   "source": [
    "```bash\n",
    "konduit serve --config ../yaml/konduit.yaml\n",
    "konduit predict-numpy --config ../yaml/konduit.yaml --numpy_data ../data/bert/input-0.npy\n",
    "konduit stop-server --config ../yaml/konduit.yaml\n",
    "```"
   ]
  },
  {
   "cell_type": "code",
   "execution_count": null,
   "metadata": {},
   "outputs": [],
   "source": [
    "!konduit serve --config ../yaml/konduit.yaml"
   ]
  },
  {
   "cell_type": "markdown",
   "metadata": {},
   "source": [
    "## python_step\n",
    "\n",
    "Python steps can take any argument that can be passed to `PythonConfig`.  \n",
    "Specify a Python step as follows: \n",
    "\n",
    "```yaml\n",
    "steps: \n",
    "  python_step: \n",
    "    type: PYTHON\n",
    "    python_code: simple.py \n",
    "```\n",
    "\n",
    "- tensor_data_types_config\n",
    "- model_config_type=\n",
    "- python_code=None,\n",
    "- python_code_path=None,\n",
    "- python_inputs=None,\n",
    "- python_outputs=None,\n",
    "- extra_inputs=None,\n",
    "- python_path=None,\n",
    "- return_all_inputs=None,\n",
    "\n",
    "Effectivelly, Python pipelines steps built for the CLI can only accept single inputs and outputs. The default name for inputs and outputs is `default`. This should be the key of your inputs to `python_step`. "
   ]
  },
  {
   "cell_type": "code",
   "execution_count": 45,
   "metadata": {},
   "outputs": [],
   "source": [
    "from konduit import PythonConfig \n",
    "PythonConfig()"
   ]
  },
  {
   "cell_type": "code",
   "execution_count": 46,
   "metadata": {},
   "outputs": [],
   "source": [
    "from konduit import PythonStep"
   ]
  },
  {
   "cell_type": "code",
   "execution_count": null,
   "metadata": {},
   "outputs": [],
   "source": [
    "PythonStep()"
   ]
  },
  {
   "cell_type": "code",
   "execution_count": 47,
   "metadata": {},
   "outputs": [],
   "source": [
    "from konduit import ModelStep"
   ]
  },
  {
   "cell_type": "code",
   "execution_count": null,
   "metadata": {},
   "outputs": [],
   "source": [
    "from PIL import Image \n",
    "import numpy as np \n",
    "from konduit.load import server_from_file, client_from_file"
   ]
  },
  {
   "cell_type": "markdown",
   "metadata": {},
   "source": [
    "### Simple Python example\n",
    "\n",
    "```yaml\n",
    "serving:\n",
    "  http_port: 1337\n",
    "  input_data_format: NUMPY\n",
    "  output_data_format: NUMPY\n",
    "  log_timings: True\n",
    "  extra_start_args: -Xmx8g\n",
    "steps:\n",
    "  python_step:\n",
    "    type: PYTHON\n",
    "    python_path: .\n",
    "    python_code_path: ./simple.py\n",
    "    python_inputs:\n",
    "      first: NDARRAY\n",
    "    python_outputs:\n",
    "      second: NDARRAY\n",
    "client:\n",
    "    port: 1337\n",
    "```"
   ]
  },
  {
   "cell_type": "code",
   "execution_count": 4,
   "metadata": {},
   "outputs": [
    {
     "name": "stdout",
     "output_type": "stream",
     "text": [
      "Starting server..\n",
      "\n",
      "Server has started successfully.\n",
      "Starting server..\n",
      "\n",
      "Server has started successfully.\n",
      "[35]\n"
     ]
    }
   ],
   "source": [
    "konduit_yaml_path = \"../yaml/simple.yaml\"\n",
    "server = server_from_file(konduit_yaml_path)\n",
    "client = client_from_file(konduit_yaml_path)\n",
    "print(client.predict(np.array(33)))\n",
    "server.stop()"
   ]
  },
  {
   "cell_type": "code",
   "execution_count": null,
   "metadata": {},
   "outputs": [],
   "source": [
    "!konduit stop-server --config ../yaml/konduit.yaml"
   ]
  },
  {
   "cell_type": "markdown",
   "metadata": {},
   "source": [
    "## PyTorch\n",
    "\n",
    "```yaml\n",
    "serving:\n",
    "  http_port: 1337\n",
    "  input_data_format: NUMPY\n",
    "  output_data_format: NUMPY\n",
    "  log_timings: True\n",
    "  extra_start_args: -Xmx8g\n",
    "steps:\n",
    "  python_step:\n",
    "    type: PYTHON\n",
    "    python_path: .\n",
    "    python_code_path: ../python/pytorch.py\n",
    "    input_names: input1\n",
    "    python_inputs:\n",
    "      image: NDARRAY\n",
    "    python_outputs:\n",
    "      img_out_y: NDARRAY\n",
    "client:\n",
    "    port: 1337\n",
    "```"
   ]
  },
  {
   "cell_type": "code",
   "execution_count": 44,
   "metadata": {},
   "outputs": [
    {
     "ename": "TypeError",
     "evalue": "__init__() got an unexpected keyword argument 'input_names'",
     "output_type": "error",
     "traceback": [
      "\u001b[1;31m---------------------------------------------------------------------------\u001b[0m",
      "\u001b[1;31mTypeError\u001b[0m                                 Traceback (most recent call last)",
      "\u001b[1;32m<ipython-input-44-0eacb79b6cac>\u001b[0m in \u001b[0;36m<module>\u001b[1;34m\u001b[0m\n\u001b[0;32m      9\u001b[0m server = server_from_file(\n\u001b[0;32m     10\u001b[0m     \u001b[0mkonduit_yaml_path\u001b[0m\u001b[1;33m,\u001b[0m\u001b[1;33m\u001b[0m\u001b[1;33m\u001b[0m\u001b[0m\n\u001b[1;32m---> 11\u001b[1;33m     \u001b[0mstart_server\u001b[0m\u001b[1;33m=\u001b[0m\u001b[1;32mFalse\u001b[0m\u001b[1;33m\u001b[0m\u001b[1;33m\u001b[0m\u001b[0m\n\u001b[0m\u001b[0;32m     12\u001b[0m )\n\u001b[0;32m     13\u001b[0m \u001b[0mserver\u001b[0m\u001b[1;33m.\u001b[0m\u001b[0mstart\u001b[0m\u001b[1;33m(\u001b[0m\u001b[1;33m)\u001b[0m\u001b[1;33m\u001b[0m\u001b[1;33m\u001b[0m\u001b[0m\n",
      "\u001b[1;32m~\\AppData\\Local\\Continuum\\miniconda3\\envs\\pytorch\\lib\\site-packages\\konduit-0.1.4-py3.7.egg\\konduit\\load.py\u001b[0m in \u001b[0;36mserver_from_file\u001b[1;34m(file_path, start_server, use_yaml)\u001b[0m\n\u001b[0;32m    119\u001b[0m     \u001b[0msteps\u001b[0m \u001b[1;33m=\u001b[0m \u001b[1;33m[\u001b[0m\u001b[1;33m]\u001b[0m\u001b[1;33m\u001b[0m\u001b[1;33m\u001b[0m\u001b[0m\n\u001b[0;32m    120\u001b[0m     \u001b[1;32mfor\u001b[0m \u001b[0mstep_config\u001b[0m \u001b[1;32min\u001b[0m \u001b[0mstep_data\u001b[0m\u001b[1;33m.\u001b[0m\u001b[0mvalues\u001b[0m\u001b[1;33m(\u001b[0m\u001b[1;33m)\u001b[0m\u001b[1;33m:\u001b[0m\u001b[1;33m\u001b[0m\u001b[1;33m\u001b[0m\u001b[0m\n\u001b[1;32m--> 121\u001b[1;33m         \u001b[0msteps\u001b[0m\u001b[1;33m.\u001b[0m\u001b[0mappend\u001b[0m\u001b[1;33m(\u001b[0m\u001b[0mget_step\u001b[0m\u001b[1;33m(\u001b[0m\u001b[0mstep_config\u001b[0m\u001b[1;33m)\u001b[0m\u001b[1;33m)\u001b[0m\u001b[1;33m\u001b[0m\u001b[1;33m\u001b[0m\u001b[0m\n\u001b[0m\u001b[0;32m    122\u001b[0m \u001b[1;33m\u001b[0m\u001b[0m\n\u001b[0;32m    123\u001b[0m     server = Server(\n",
      "\u001b[1;32m~\\AppData\\Local\\Continuum\\miniconda3\\envs\\pytorch\\lib\\site-packages\\konduit-0.1.4-py3.7.egg\\konduit\\load.py\u001b[0m in \u001b[0;36mget_step\u001b[1;34m(step_config)\u001b[0m\n\u001b[0;32m    154\u001b[0m     \u001b[0mstep_type\u001b[0m \u001b[1;33m=\u001b[0m \u001b[0mstep_config\u001b[0m\u001b[1;33m.\u001b[0m\u001b[0mpop\u001b[0m\u001b[1;33m(\u001b[0m\u001b[1;34m'type'\u001b[0m\u001b[1;33m)\u001b[0m\u001b[1;33m\u001b[0m\u001b[1;33m\u001b[0m\u001b[0m\n\u001b[0;32m    155\u001b[0m     \u001b[1;32mif\u001b[0m \u001b[0mstep_type\u001b[0m \u001b[1;33m==\u001b[0m \u001b[1;34m'PYTHON'\u001b[0m\u001b[1;33m:\u001b[0m\u001b[1;33m\u001b[0m\u001b[1;33m\u001b[0m\u001b[0m\n\u001b[1;32m--> 156\u001b[1;33m         \u001b[0mstep\u001b[0m \u001b[1;33m=\u001b[0m \u001b[0mget_python_step\u001b[0m\u001b[1;33m(\u001b[0m\u001b[0mstep_config\u001b[0m\u001b[1;33m)\u001b[0m\u001b[1;33m\u001b[0m\u001b[1;33m\u001b[0m\u001b[0m\n\u001b[0m\u001b[0;32m    157\u001b[0m     \u001b[1;32melif\u001b[0m \u001b[0mstep_type\u001b[0m \u001b[1;32min\u001b[0m \u001b[0mMODEL_TYPES\u001b[0m\u001b[1;33m:\u001b[0m\u001b[1;33m\u001b[0m\u001b[1;33m\u001b[0m\u001b[0m\n\u001b[0;32m    158\u001b[0m         \u001b[0mstep\u001b[0m \u001b[1;33m=\u001b[0m \u001b[0mget_model_step\u001b[0m\u001b[1;33m(\u001b[0m\u001b[0mstep_config\u001b[0m\u001b[1;33m,\u001b[0m \u001b[0mstep_type\u001b[0m\u001b[1;33m)\u001b[0m\u001b[1;33m\u001b[0m\u001b[1;33m\u001b[0m\u001b[0m\n",
      "\u001b[1;32m~\\AppData\\Local\\Continuum\\miniconda3\\envs\\pytorch\\lib\\site-packages\\konduit-0.1.4-py3.7.egg\\konduit\\load.py\u001b[0m in \u001b[0;36mget_python_step\u001b[1;34m(step_config)\u001b[0m\n\u001b[0;32m    168\u001b[0m     \u001b[1;33m:\u001b[0m\u001b[1;32mreturn\u001b[0m\u001b[1;33m:\u001b[0m \u001b[0mkonduit\u001b[0m\u001b[1;33m.\u001b[0m\u001b[0minference\u001b[0m\u001b[1;33m.\u001b[0m\u001b[0mPythonStep\u001b[0m \u001b[0minstance\u001b[0m\u001b[1;33m.\u001b[0m\u001b[1;33m\u001b[0m\u001b[1;33m\u001b[0m\u001b[0m\n\u001b[0;32m    169\u001b[0m     \"\"\"\n\u001b[1;32m--> 170\u001b[1;33m     \u001b[0mpython_config\u001b[0m \u001b[1;33m=\u001b[0m \u001b[0mPythonConfig\u001b[0m\u001b[1;33m(\u001b[0m\u001b[1;33m**\u001b[0m\u001b[0mstep_config\u001b[0m\u001b[1;33m)\u001b[0m\u001b[1;33m\u001b[0m\u001b[1;33m\u001b[0m\u001b[0m\n\u001b[0m\u001b[0;32m    171\u001b[0m     \u001b[0mstep\u001b[0m \u001b[1;33m=\u001b[0m \u001b[0mPythonStep\u001b[0m\u001b[1;33m(\u001b[0m\u001b[1;33m)\u001b[0m\u001b[1;33m.\u001b[0m\u001b[0mstep\u001b[0m\u001b[1;33m(\u001b[0m\u001b[0mpython_config\u001b[0m\u001b[1;33m)\u001b[0m\u001b[1;33m\u001b[0m\u001b[1;33m\u001b[0m\u001b[0m\n\u001b[0;32m    172\u001b[0m     \u001b[1;32mreturn\u001b[0m \u001b[0mstep\u001b[0m\u001b[1;33m\u001b[0m\u001b[1;33m\u001b[0m\u001b[0m\n",
      "\u001b[1;31mTypeError\u001b[0m: __init__() got an unexpected keyword argument 'input_names'"
     ]
    }
   ],
   "source": [
    "im = Image.open(\"../data/facedetector/1.jpg\")\n",
    "im = np.array(im).astype(\"int\")\n",
    "\n",
    "konduit_yaml_path = \"../yaml/pytorch.yaml\"\n",
    "server = server_from_file(konduit_yaml_path)\n",
    "client = client_from_file(konduit_yaml_path)\n",
    "print(client.predict({\"default\": im}))\n",
    "server.stop()"
   ]
  },
  {
   "cell_type": "markdown",
   "metadata": {},
   "source": [
    "# ModelStep \n",
    "Unlike Python pipeline steps, ModelStep pipeline steps require a named input. "
   ]
  },
  {
   "cell_type": "markdown",
   "metadata": {},
   "source": [
    "## Deeplearning4j\n",
    "```yaml\n",
    "serving:\n",
    "  http_port: 1337\n",
    "  input_data_format: NUMPY\n",
    "  output_data_format: NUMPY\n",
    "  log_timings: True\n",
    "  extra_start_args: -Xmx8g\n",
    "steps:\n",
    "  dl4j_mln_step:\n",
    "    type: MULTI_LAYER_NETWORK\n",
    "    model_loading_path: ../data/multilayernetwork/SimpleCNN.zip\n",
    "    input_names: \n",
    "    - image_array\n",
    "    output_names: \n",
    "    - output\n",
    "    input_data_types:\n",
    "      image_array: FLOAT\n",
    "client:\n",
    "    port: 1337\n",
    "```"
   ]
  },
  {
   "cell_type": "code",
   "execution_count": 16,
   "metadata": {},
   "outputs": [
    {
     "name": "stdout",
     "output_type": "stream",
     "text": [
      "Starting server..\n",
      "\n",
      "Server has started successfully.\n",
      "[[4.1096203e-02 3.2491919e-01 2.5245989e-02 4.0063278e-05 6.0869849e-01]]\n"
     ]
    }
   ],
   "source": [
    "rand_image = np.random.randint(255, size=(3, 224, 224)) / 255\n",
    "konduit_yaml_path = \"../yaml/deeplearning4j.yaml\"\n",
    "server = server_from_file(konduit_yaml_path)\n",
    "client = client_from_file(konduit_yaml_path)\n",
    "print(client.predict({\"image_array\": rand_image}))\n",
    "server.stop()"
   ]
  },
  {
   "cell_type": "markdown",
   "metadata": {},
   "source": [
    "## Tensorflow 1.x"
   ]
  },
  {
   "cell_type": "code",
   "execution_count": 24,
   "metadata": {},
   "outputs": [
    {
     "name": "stdout",
     "output_type": "stream",
     "text": [
      "Starting server.........................\n",
      "\n",
      "The server wasn't able to start.\n"
     ]
    },
    {
     "name": "stderr",
     "output_type": "stream",
     "text": [
      "ERROR:root:HTTPConnectionPool(host='localhost', port=1337): Max retries exceeded with url: /healthcheck (Caused by NewConnectionError('<urllib3.connection.HTTPConnection object at 0x0000021841F011C8>: Failed to establish a new connection: [WinError 10061] No connection could be made because the target machine actively refused it'))\n",
      "Unable to connect to the server or the server health checks have failed. Please verify that the server is running without any issues...\n",
      "ERROR:root:Unable to connect to the server at http://localhost:1337\n"
     ]
    },
    {
     "ename": "NameError",
     "evalue": "name 'exit' is not defined",
     "output_type": "error",
     "traceback": [
      "\u001b[1;31m---------------------------------------------------------------------------\u001b[0m",
      "\u001b[1;31mNameError\u001b[0m                                 Traceback (most recent call last)",
      "\u001b[1;32m<ipython-input-24-437b38b12ccb>\u001b[0m in \u001b[0;36m<module>\u001b[1;34m\u001b[0m\n\u001b[0;32m      1\u001b[0m \u001b[0mkonduit_yaml_path\u001b[0m \u001b[1;33m=\u001b[0m \u001b[1;34m\"../yaml/tensorflow-bert.yaml\"\u001b[0m\u001b[1;33m\u001b[0m\u001b[1;33m\u001b[0m\u001b[0m\n\u001b[0;32m      2\u001b[0m \u001b[0mserver\u001b[0m \u001b[1;33m=\u001b[0m \u001b[0mserver_from_file\u001b[0m\u001b[1;33m(\u001b[0m\u001b[0mkonduit_yaml_path\u001b[0m\u001b[1;33m)\u001b[0m\u001b[1;33m\u001b[0m\u001b[1;33m\u001b[0m\u001b[0m\n\u001b[1;32m----> 3\u001b[1;33m \u001b[0mclient\u001b[0m \u001b[1;33m=\u001b[0m \u001b[0mclient_from_file\u001b[0m\u001b[1;33m(\u001b[0m\u001b[0mkonduit_yaml_path\u001b[0m\u001b[1;33m)\u001b[0m\u001b[1;33m\u001b[0m\u001b[1;33m\u001b[0m\u001b[0m\n\u001b[0m\u001b[0;32m      4\u001b[0m data_input = {\n\u001b[0;32m      5\u001b[0m     \u001b[1;34m'IteratorGetNext:0'\u001b[0m\u001b[1;33m:\u001b[0m \u001b[0mnp\u001b[0m\u001b[1;33m.\u001b[0m\u001b[0mload\u001b[0m\u001b[1;33m(\u001b[0m\u001b[1;34m'../data/bert/input-0.npy'\u001b[0m\u001b[1;33m)\u001b[0m\u001b[1;33m,\u001b[0m\u001b[1;33m\u001b[0m\u001b[1;33m\u001b[0m\u001b[0m\n",
      "\u001b[1;32m~\\AppData\\Local\\Continuum\\miniconda3\\envs\\pytorch\\lib\\site-packages\\konduit-0.1.4-py3.7.egg\\konduit\\load.py\u001b[0m in \u001b[0;36mclient_from_file\u001b[1;34m(file_path, use_yaml)\u001b[0m\n\u001b[0;32m    142\u001b[0m     \u001b[0mdata\u001b[0m \u001b[1;33m=\u001b[0m \u001b[0mload_data\u001b[0m\u001b[1;33m(\u001b[0m\u001b[0mfile_path\u001b[0m\u001b[1;33m,\u001b[0m \u001b[0muse_yaml\u001b[0m\u001b[1;33m)\u001b[0m\u001b[1;33m\u001b[0m\u001b[1;33m\u001b[0m\u001b[0m\n\u001b[0;32m    143\u001b[0m     \u001b[0mclient_data\u001b[0m \u001b[1;33m=\u001b[0m \u001b[0mdata\u001b[0m\u001b[1;33m.\u001b[0m\u001b[0mget\u001b[0m\u001b[1;33m(\u001b[0m\u001b[1;34m'client'\u001b[0m\u001b[1;33m,\u001b[0m \u001b[1;32mNone\u001b[0m\u001b[1;33m)\u001b[0m\u001b[1;33m\u001b[0m\u001b[1;33m\u001b[0m\u001b[0m\n\u001b[1;32m--> 144\u001b[1;33m     \u001b[0mclient\u001b[0m \u001b[1;33m=\u001b[0m \u001b[0mClient\u001b[0m\u001b[1;33m(\u001b[0m\u001b[1;33m**\u001b[0m\u001b[0mclient_data\u001b[0m\u001b[1;33m)\u001b[0m\u001b[1;33m\u001b[0m\u001b[1;33m\u001b[0m\u001b[0m\n\u001b[0m\u001b[0;32m    145\u001b[0m     \u001b[1;32mreturn\u001b[0m \u001b[0mclient\u001b[0m\u001b[1;33m\u001b[0m\u001b[1;33m\u001b[0m\u001b[0m\n\u001b[0;32m    146\u001b[0m \u001b[1;33m\u001b[0m\u001b[0m\n",
      "\u001b[1;32m~\\AppData\\Local\\Continuum\\miniconda3\\envs\\pytorch\\lib\\site-packages\\konduit-0.1.4-py3.7.egg\\konduit\\client.py\u001b[0m in \u001b[0;36m__init__\u001b[1;34m(self, input_data_format, output_data_format, return_output_data_format, input_names, output_names, timeout, host, port)\u001b[0m\n\u001b[0;32m     44\u001b[0m             \u001b[1;32mif\u001b[0m \u001b[1;32mnot\u001b[0m \u001b[0mvalidate_server\u001b[0m\u001b[1;33m(\u001b[0m\u001b[0murl\u001b[0m\u001b[1;33m)\u001b[0m\u001b[1;33m:\u001b[0m\u001b[1;33m\u001b[0m\u001b[1;33m\u001b[0m\u001b[0m\n\u001b[0;32m     45\u001b[0m                 \u001b[0mlogging\u001b[0m\u001b[1;33m.\u001b[0m\u001b[0merror\u001b[0m\u001b[1;33m(\u001b[0m\u001b[1;34m\"Unable to connect to the server at {}\"\u001b[0m\u001b[1;33m.\u001b[0m\u001b[0mformat\u001b[0m\u001b[1;33m(\u001b[0m\u001b[0murl\u001b[0m\u001b[1;33m)\u001b[0m\u001b[1;33m)\u001b[0m\u001b[1;33m\u001b[0m\u001b[1;33m\u001b[0m\u001b[0m\n\u001b[1;32m---> 46\u001b[1;33m                 \u001b[0mexit\u001b[0m\u001b[1;33m(\u001b[0m\u001b[1;33m-\u001b[0m\u001b[1;36m1\u001b[0m\u001b[1;33m)\u001b[0m\u001b[1;33m\u001b[0m\u001b[1;33m\u001b[0m\u001b[0m\n\u001b[0m\u001b[0;32m     47\u001b[0m             \u001b[1;32melse\u001b[0m\u001b[1;33m:\u001b[0m\u001b[1;33m\u001b[0m\u001b[1;33m\u001b[0m\u001b[0m\n\u001b[0;32m     48\u001b[0m                 \u001b[1;32mtry\u001b[0m\u001b[1;33m:\u001b[0m\u001b[1;33m\u001b[0m\u001b[1;33m\u001b[0m\u001b[0m\n",
      "\u001b[1;31mNameError\u001b[0m: name 'exit' is not defined"
     ]
    }
   ],
   "source": [
    "konduit_yaml_path = \"../yaml/tensorflow-bert.yaml\"\n",
    "server = server_from_file(konduit_yaml_path)\n",
    "client = client_from_file(konduit_yaml_path)\n",
    "data_input = {\n",
    "    'IteratorGetNext:0': np.load('../data/bert/input-0.npy'),\n",
    "    'IteratorGetNext:1': np.load('../data/bert/input-1.npy'),\n",
    "    'IteratorGetNext:4': np.load('../data/bert/input-4.npy')\n",
    "}\n",
    "\n",
    "print(client.predict(data_input))\n",
    "server.stop()"
   ]
  },
  {
   "cell_type": "code",
   "execution_count": 42,
   "metadata": {},
   "outputs": [
    {
     "ename": "KeyError",
     "evalue": "'type'",
     "output_type": "error",
     "traceback": [
      "\u001b[1;31m---------------------------------------------------------------------------\u001b[0m",
      "\u001b[1;31mKeyError\u001b[0m                                  Traceback (most recent call last)",
      "\u001b[1;32m<ipython-input-42-6769c9eb61d1>\u001b[0m in \u001b[0;36m<module>\u001b[1;34m\u001b[0m\n\u001b[0;32m      1\u001b[0m \u001b[0mkonduit_yaml_path\u001b[0m \u001b[1;33m=\u001b[0m \u001b[1;34m\"../yaml/datavec.yaml\"\u001b[0m\u001b[1;33m\u001b[0m\u001b[1;33m\u001b[0m\u001b[0m\n\u001b[1;32m----> 2\u001b[1;33m \u001b[0mserver\u001b[0m \u001b[1;33m=\u001b[0m \u001b[0mserver_from_file\u001b[0m\u001b[1;33m(\u001b[0m\u001b[0mkonduit_yaml_path\u001b[0m\u001b[1;33m)\u001b[0m\u001b[1;33m\u001b[0m\u001b[1;33m\u001b[0m\u001b[0m\n\u001b[0m\u001b[0;32m      3\u001b[0m \u001b[0mclient\u001b[0m \u001b[1;33m=\u001b[0m \u001b[0mclient_from_file\u001b[0m\u001b[1;33m(\u001b[0m\u001b[0mkonduit_yaml_path\u001b[0m\u001b[1;33m)\u001b[0m\u001b[1;33m\u001b[0m\u001b[1;33m\u001b[0m\u001b[0m\n\u001b[0;32m      4\u001b[0m \u001b[0mprint\u001b[0m\u001b[1;33m(\u001b[0m\u001b[0mclient\u001b[0m\u001b[1;33m.\u001b[0m\u001b[0mpredict\u001b[0m\u001b[1;33m(\u001b[0m\u001b[1;33m{\u001b[0m\u001b[1;34m\"first\"\u001b[0m\u001b[1;33m:\u001b[0m \u001b[1;34m\"value\"\u001b[0m\u001b[1;33m}\u001b[0m\u001b[1;33m)\u001b[0m\u001b[1;33m)\u001b[0m\u001b[1;33m\u001b[0m\u001b[1;33m\u001b[0m\u001b[0m\n\u001b[0;32m      5\u001b[0m \u001b[0mserver\u001b[0m\u001b[1;33m.\u001b[0m\u001b[0mstop\u001b[0m\u001b[1;33m(\u001b[0m\u001b[1;33m)\u001b[0m\u001b[1;33m\u001b[0m\u001b[1;33m\u001b[0m\u001b[0m\n",
      "\u001b[1;32m~\\AppData\\Local\\Continuum\\miniconda3\\envs\\pytorch\\lib\\site-packages\\konduit-0.1.4-py3.7.egg\\konduit\\load.py\u001b[0m in \u001b[0;36mserver_from_file\u001b[1;34m(file_path, start_server, use_yaml)\u001b[0m\n\u001b[0;32m    119\u001b[0m     \u001b[0msteps\u001b[0m \u001b[1;33m=\u001b[0m \u001b[1;33m[\u001b[0m\u001b[1;33m]\u001b[0m\u001b[1;33m\u001b[0m\u001b[1;33m\u001b[0m\u001b[0m\n\u001b[0;32m    120\u001b[0m     \u001b[1;32mfor\u001b[0m \u001b[0mstep_config\u001b[0m \u001b[1;32min\u001b[0m \u001b[0mstep_data\u001b[0m\u001b[1;33m.\u001b[0m\u001b[0mvalues\u001b[0m\u001b[1;33m(\u001b[0m\u001b[1;33m)\u001b[0m\u001b[1;33m:\u001b[0m\u001b[1;33m\u001b[0m\u001b[1;33m\u001b[0m\u001b[0m\n\u001b[1;32m--> 121\u001b[1;33m         \u001b[0msteps\u001b[0m\u001b[1;33m.\u001b[0m\u001b[0mappend\u001b[0m\u001b[1;33m(\u001b[0m\u001b[0mget_step\u001b[0m\u001b[1;33m(\u001b[0m\u001b[0mstep_config\u001b[0m\u001b[1;33m)\u001b[0m\u001b[1;33m)\u001b[0m\u001b[1;33m\u001b[0m\u001b[1;33m\u001b[0m\u001b[0m\n\u001b[0m\u001b[0;32m    122\u001b[0m \u001b[1;33m\u001b[0m\u001b[0m\n\u001b[0;32m    123\u001b[0m     server = Server(\n",
      "\u001b[1;32m~\\AppData\\Local\\Continuum\\miniconda3\\envs\\pytorch\\lib\\site-packages\\konduit-0.1.4-py3.7.egg\\konduit\\load.py\u001b[0m in \u001b[0;36mget_step\u001b[1;34m(step_config)\u001b[0m\n\u001b[0;32m    152\u001b[0m     \u001b[1;33m:\u001b[0m\u001b[1;32mreturn\u001b[0m\u001b[1;33m:\u001b[0m \u001b[0mkonduit\u001b[0m\u001b[1;33m.\u001b[0m\u001b[0minference\u001b[0m\u001b[1;33m.\u001b[0m\u001b[0mPipelineStep\u001b[0m \u001b[0minstance\u001b[0m\u001b[1;33m.\u001b[0m\u001b[1;33m\u001b[0m\u001b[1;33m\u001b[0m\u001b[0m\n\u001b[0;32m    153\u001b[0m     \"\"\"\n\u001b[1;32m--> 154\u001b[1;33m     \u001b[0mstep_type\u001b[0m \u001b[1;33m=\u001b[0m \u001b[0mstep_config\u001b[0m\u001b[1;33m.\u001b[0m\u001b[0mpop\u001b[0m\u001b[1;33m(\u001b[0m\u001b[1;34m'type'\u001b[0m\u001b[1;33m)\u001b[0m\u001b[1;33m\u001b[0m\u001b[1;33m\u001b[0m\u001b[0m\n\u001b[0m\u001b[0;32m    155\u001b[0m     \u001b[1;32mif\u001b[0m \u001b[0mstep_type\u001b[0m \u001b[1;33m==\u001b[0m \u001b[1;34m'PYTHON'\u001b[0m\u001b[1;33m:\u001b[0m\u001b[1;33m\u001b[0m\u001b[1;33m\u001b[0m\u001b[0m\n\u001b[0;32m    156\u001b[0m         \u001b[0mstep\u001b[0m \u001b[1;33m=\u001b[0m \u001b[0mget_python_step\u001b[0m\u001b[1;33m(\u001b[0m\u001b[0mstep_config\u001b[0m\u001b[1;33m)\u001b[0m\u001b[1;33m\u001b[0m\u001b[1;33m\u001b[0m\u001b[0m\n",
      "\u001b[1;31mKeyError\u001b[0m: 'type'"
     ]
    }
   ],
   "source": [
    "konduit_yaml_path = \"../yaml/datavec.yaml\"\n",
    "server = server_from_file(konduit_yaml_path)\n",
    "client = client_from_file(konduit_yaml_path)\n",
    "print(client.predict({\"first\": \"value\"}))\n",
    "server.stop()"
   ]
  },
  {
   "cell_type": "code",
   "execution_count": 33,
   "metadata": {},
   "outputs": [],
   "source": [
    "import yaml \n",
    "with open(konduit_yaml_path, 'r') as f:\n",
    "    data = yaml.safe_load(f)"
   ]
  },
  {
   "cell_type": "code",
   "execution_count": null,
   "metadata": {},
   "outputs": [],
   "source": []
  }
 ],
 "metadata": {
  "kernelspec": {
   "display_name": "Python 3",
   "language": "python",
   "name": "python3"
  },
  "language_info": {
   "codemirror_mode": {
    "name": "ipython",
    "version": 3
   },
   "file_extension": ".py",
   "mimetype": "text/x-python",
   "name": "python",
   "nbconvert_exporter": "python",
   "pygments_lexer": "ipython3",
   "version": "3.7.5"
  }
 },
 "nbformat": 4,
 "nbformat_minor": 4
}
