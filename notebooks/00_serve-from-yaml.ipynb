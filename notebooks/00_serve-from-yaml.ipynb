{
 "cells": [
  {
   "cell_type": "markdown",
   "metadata": {},
   "source": [
    "# Model Serving with the Python CLI \n",
    "\n",
    "The Konduit Python CLI provides a quick way to build model serving configuration. You can do this with YAML files. \n",
    "\n",
    "The YAMLs on this page can be used as boilerplate code for your model serving use cases. \n"
   ]
  },
  {
   "cell_type": "code",
   "execution_count": 7,
   "metadata": {},
   "outputs": [],
   "source": [
    "from PIL import Image \n",
    "import numpy as np \n",
    "from konduit.load import server_from_file, client_from_file"
   ]
  },
  {
   "cell_type": "markdown",
   "metadata": {},
   "source": [
    "Download \n",
    "https://raw.githubusercontent.com/KonduitAI/konduit-serving/master/python/tests/resources/keras/embedding_lstm_tensorflow_2.h5"
   ]
  },
  {
   "cell_type": "markdown",
   "metadata": {},
   "source": [
    "```yaml\n",
    "serving:\n",
    "  http_port: 1337\n",
    "  input_data_format: NUMPY\n",
    "  output_data_format: NUMPY\n",
    "  log_timings: True\n",
    "  extra_start_args: -Xmx8g\n",
    "steps:\n",
    "  python_step:\n",
    "    type: PYTHON\n",
    "    python_path: .\n",
    "    python_code_path: ./simple.py\n",
    "    python_inputs:\n",
    "      first: NDARRAY\n",
    "    python_outputs:\n",
    "      second: NDARRAY\n",
    "client:\n",
    "    port: 1337\n",
    "```\n"
   ]
  },
  {
   "cell_type": "markdown",
   "metadata": {},
   "source": [
    "```bash\n",
    "konduit serve --config ../yaml/konduit.yaml\n",
    "konduit predict-numpy --config ../yaml/konduit.yaml --numpy_data ../data/bert/input-0.npy\n",
    "konduit stop-server --config ../yaml/konduit.yaml\n",
    "```"
   ]
  },
  {
   "cell_type": "markdown",
   "metadata": {},
   "source": [
    "## python_step\n",
    "\n",
    "Python steps can take any argument that can be passed to `PythonConfig`.  \n",
    "Specify a Python step as follows: \n",
    "\n",
    "```yaml\n",
    "steps: \n",
    "  python_step: \n",
    "    type: PYTHON\n",
    "    python_code: simple.py \n",
    "```\n",
    "\n",
    "- tensor_data_types_config\n",
    "- model_config_type=\n",
    "- python_code=None,\n",
    "- python_code_path=None,\n",
    "- python_inputs=None,\n",
    "- python_outputs=None,\n",
    "- extra_inputs=None,\n",
    "- python_path=None,\n",
    "- return_all_inputs=None,\n",
    "\n",
    "Effectivelly, Python pipelines steps built for the CLI can only accept single inputs and outputs. The default name for inputs and outputs is `default`. This should be the key of your inputs to `python_step`. "
   ]
  },
  {
   "cell_type": "markdown",
   "metadata": {},
   "source": [
    "### Simple Python example\n",
    "\n",
    "```yaml\n",
    "serving:\n",
    "  http_port: 1337\n",
    "  input_data_format: NUMPY\n",
    "  output_data_format: NUMPY\n",
    "  log_timings: True\n",
    "  extra_start_args: -Xmx8g\n",
    "steps:\n",
    "  python_step:\n",
    "    type: PYTHON\n",
    "    python_path: .\n",
    "    python_code_path: ./simple.py\n",
    "    python_inputs:\n",
    "      first: NDARRAY\n",
    "    python_outputs:\n",
    "      second: NDARRAY\n",
    "client:\n",
    "    port: 1337\n",
    "```"
   ]
  },
  {
   "cell_type": "code",
   "execution_count": 2,
   "metadata": {},
   "outputs": [
    {
     "name": "stdout",
     "output_type": "stream",
     "text": [
      "Starting server...\n",
      "\n",
      "Server has started successfully.\n"
     ]
    },
    {
     "data": {
      "text/plain": [
       "<konduit.server.Server at 0x1c78f41f8c8>"
      ]
     },
     "execution_count": 2,
     "metadata": {},
     "output_type": "execute_result"
    }
   ],
   "source": [
    "server_from_file(\"../yaml/bad_output.yaml\")"
   ]
  },
  {
   "cell_type": "code",
   "execution_count": 3,
   "metadata": {},
   "outputs": [
    {
     "name": "stdout",
     "output_type": "stream",
     "text": [
      "Starting server....\n",
      "\n",
      "Server has started successfully.\n",
      "[35]\n"
     ]
    }
   ],
   "source": [
    "input_arr = np.array(33)\n",
    "\n",
    "konduit_yaml_path = \"../yaml/simple.yaml\"\n",
    "server = server_from_file(konduit_yaml_path)\n",
    "client = client_from_file(konduit_yaml_path)\n",
    "print(client.predict(input_arr))\n",
    "server.stop()\n",
    "\n",
    "np.save(\"../data/simple/input_arr.npy\", input_arr)"
   ]
  },
  {
   "cell_type": "markdown",
   "metadata": {},
   "source": [
    "```bash\n",
    "konduit serve --config ../yaml/simple.yaml\n",
    "konduit predict-numpy --config ../yaml/simple.yaml --numpy_data ../data/simple/input_arr.npy\n",
    "konduit stop-server --config ../yaml/simple.yaml\n",
    "```"
   ]
  },
  {
   "cell_type": "markdown",
   "metadata": {},
   "source": [
    "## PyTorch\n",
    "\n",
    "```yaml\n",
    "serving:\n",
    "  http_port: 1337\n",
    "  input_data_format: NUMPY\n",
    "  output_data_format: NUMPY\n",
    "  log_timings: True\n",
    "  extra_start_args: -Xmx8g\n",
    "steps:\n",
    "  python_step:\n",
    "    type: PYTHON\n",
    "    python_path: .\n",
    "    python_code_path: ../python/pytorch.py\n",
    "    python_inputs:\n",
    "      image: NDARRAY\n",
    "    python_outputs:\n",
    "      img_out_y: NDARRAY\n",
    "client:\n",
    "    port: 1337\n",
    "```"
   ]
  },
  {
   "cell_type": "code",
   "execution_count": 4,
   "metadata": {},
   "outputs": [
    {
     "name": "stdout",
     "output_type": "stream",
     "text": [
      "Starting server...\n",
      "\n",
      "Server has started successfully.\n",
      "[[[0.9244309  0.07556909]\n",
      "  [0.93430835 0.06569161]\n",
      "  [0.93282    0.06717995]\n",
      "  ...\n",
      "  [0.950211   0.04978901]\n",
      "  [0.95374817 0.04625188]\n",
      "  [0.96080184 0.03919813]]]\n"
     ]
    }
   ],
   "source": [
    "im = Image.open(\"../data/facedetector/1.jpg\")\n",
    "im = np.array(im).astype(\"int\")\n",
    "\n",
    "konduit_yaml_path = \"../yaml/pytorch.yaml\"\n",
    "server = server_from_file(konduit_yaml_path)\n",
    "client = client_from_file(konduit_yaml_path)\n",
    "print(client.predict(im))\n",
    "server.stop()"
   ]
  },
  {
   "cell_type": "code",
   "execution_count": 5,
   "metadata": {},
   "outputs": [],
   "source": [
    "np.save(\"../data/pytorch/im.npy\", im)"
   ]
  },
  {
   "cell_type": "markdown",
   "metadata": {},
   "source": [
    "```bash\n",
    "konduit serve --config ../yaml/pytorch.yaml\n",
    "konduit predict-numpy --config ../yaml/pytorch.yaml --numpy_data ../data/pytorch/im.npy\n",
    "konduit stop-server --config ../yaml/pytorch.yaml\n",
    "```"
   ]
  },
  {
   "cell_type": "markdown",
   "metadata": {},
   "source": [
    "# ModelStep \n",
    "Unlike Python pipeline steps, ModelStep pipeline steps require a named input. "
   ]
  },
  {
   "cell_type": "markdown",
   "metadata": {},
   "source": [
    "## Deeplearning4j\n",
    "```yaml\n",
    "serving:\n",
    "  http_port: 1337\n",
    "  input_data_format: NUMPY\n",
    "  output_data_format: NUMPY\n",
    "  log_timings: True\n",
    "  extra_start_args: -Xmx8g\n",
    "steps:\n",
    "  dl4j_mln_step:\n",
    "    type: MULTI_LAYER_NETWORK\n",
    "    model_loading_path: ../data/multilayernetwork/SimpleCNN.zip\n",
    "    input_names: \n",
    "    - image_array\n",
    "    output_names: \n",
    "    - output\n",
    "    input_data_types:\n",
    "      image_array: FLOAT\n",
    "client:\n",
    "    port: 1337\n",
    "```"
   ]
  },
  {
   "cell_type": "code",
   "execution_count": 6,
   "metadata": {},
   "outputs": [
    {
     "name": "stdout",
     "output_type": "stream",
     "text": [
      "Starting server..\n",
      "\n",
      "Server has started successfully.\n",
      "[[4.0724486e-02 3.2171297e-01 2.4854962e-02 3.9229246e-05 6.1266840e-01]]\n"
     ]
    }
   ],
   "source": [
    "rand_image = np.random.randint(255, size=(3, 224, 224)) / 255\n",
    "konduit_yaml_path = \"../yaml/deeplearning4j.yaml\"\n",
    "server = server_from_file(konduit_yaml_path)\n",
    "client = client_from_file(konduit_yaml_path)\n",
    "print(client.predict({\"image_array\": rand_image}))\n",
    "server.stop()"
   ]
  },
  {
   "cell_type": "code",
   "execution_count": 7,
   "metadata": {},
   "outputs": [],
   "source": [
    "np.save(\"../data/multilayernetwork/image_array.npy\", rand_image)"
   ]
  },
  {
   "cell_type": "markdown",
   "metadata": {},
   "source": [
    "```bash\n",
    "konduit serve --config ../yaml/deeplearning4j.yaml\n",
    "konduit predict-numpy --config ../yaml/deeplearning4j.yaml --numpy_data ../data/multilayernetwork/image_array.npy\n",
    "konduit stop-server --config ../yaml/deeplearning4j.yaml\n",
    "```"
   ]
  },
  {
   "cell_type": "markdown",
   "metadata": {},
   "source": [
    "## Tensorflow 1.x\n",
    "\n",
    "```yaml \n",
    "serving:\n",
    "  http_port: 1337\n",
    "  input_data_format: NUMPY\n",
    "  output_data_format: NUMPY\n",
    "  log_timings: True\n",
    "  extra_start_args: -Xmx8g\n",
    "steps:\n",
    "  tensorflow_step:\n",
    "    type: TENSORFLOW\n",
    "    model_loading_path: bert_mrpc_frozen.pb\n",
    "    input_names:\n",
    "      - IteratorGetNext:0\n",
    "      - IteratorGetNext:1\n",
    "      - IteratorGetNext:4\n",
    "    output_names:\n",
    "      - loss/Softmax\n",
    "    input_data_types:\n",
    "      IteratorGetNext:0: INT32\n",
    "      IteratorGetNext:1: INT32\n",
    "      IteratorGetNext:4: INT32\n",
    "    parallel_inference_config:\n",
    "      workers: 1\n",
    "client:\n",
    "    port: 1337\n",
    "```"
   ]
  },
  {
   "cell_type": "code",
   "execution_count": 10,
   "metadata": {},
   "outputs": [
    {
     "name": "stdout",
     "output_type": "stream",
     "text": [
      "Starting server..................\n",
      "\n",
      "Server has started successfully.\n",
      "[[9.9846917e-01 1.5308516e-03]\n",
      " [7.5513724e-04 9.9924493e-01]\n",
      " [9.9845624e-01 1.5437978e-03]\n",
      " [9.6907425e-01 3.0925732e-02]]\n"
     ]
    }
   ],
   "source": [
    "konduit_yaml_path = \"../yaml/tensorflow-bert.yaml\"\n",
    "server = server_from_file(konduit_yaml_path)\n",
    "client = client_from_file(konduit_yaml_path)\n",
    "\n",
    "data_input = {\n",
    "    'IteratorGetNext:0': np.load('../data/bert/input-0.npy'),\n",
    "    'IteratorGetNext:1': np.load('../data/bert/input-1.npy'),\n",
    "    'IteratorGetNext:4': np.load('../data/bert/input-4.npy')\n",
    "}\n",
    "\n",
    "print(client.predict(data_input))\n",
    "server.stop()"
   ]
  },
  {
   "cell_type": "markdown",
   "metadata": {},
   "source": [
    "```yaml\n",
    "serving:\n",
    "  http_port: 1337\n",
    "  input_data_format: NUMPY\n",
    "  output_data_format: NUMPY\n",
    "  log_timings: True\n",
    "  extra_start_args: -Xmx8g\n",
    "steps:\n",
    "  tensorflow_step:\n",
    "    type: TENSORFLOW\n",
    "    model_loading_path: ../data/mnist/mnist_2.0.0.pb\n",
    "    input_names:\n",
    "      - input_layer\n",
    "    output_names:\n",
    "      - output_layer/Softmax\n",
    "    input_data_types:\n",
    "      input_layer: FLOAT\n",
    "    parallel_inference_config:\n",
    "      workers: 1\n",
    "client:\n",
    "    port: 1337\n",
    "```"
   ]
  },
  {
   "cell_type": "code",
   "execution_count": 10,
   "metadata": {},
   "outputs": [
    {
     "name": "stdout",
     "output_type": "stream",
     "text": [
      "Starting server..\n",
      "\n",
      "Server has started successfully.\n"
     ]
    }
   ],
   "source": [
    "img = np.load(\"../data/mnist/input_layer.npy\")\n",
    "konduit_yaml_path = \"../yaml/tensorflow-mnist.yaml\"\n",
    "server = server_from_file(konduit_yaml_path)\n",
    "client = client_from_file(konduit_yaml_path)"
   ]
  },
  {
   "cell_type": "code",
   "execution_count": 11,
   "metadata": {},
   "outputs": [
    {
     "data": {
      "image/png": "[encoded data removed]",
      "text/plain": [
       "<Figure size 432x288 with 1 Axes>"
      ]
     },
     "metadata": {
      "needs_background": "light"
     },
     "output_type": "display_data"
    },
    {
     "name": "stdout",
     "output_type": "stream",
     "text": [
      "{0: 0.0, 1: 0.0, 2: 0.001, 3: 0.001, 4: 0.0, 5: 0.0, 6: 0.0, 7: 0.998, 8: 0.0, 9: 0.0}\n"
     ]
    }
   ],
   "source": [
    "plt.imshow(img)\n",
    "predicted = client.predict(\n",
    "    data_input={'input_layer': img}\n",
    ")\n",
    "plt.show()\n",
    "print(dict(zip(np.arange(10), predicted[0].round(3))))\n",
    "    \n",
    "server.stop()"
   ]
  },
  {
   "cell_type": "code",
   "execution_count": 9,
   "metadata": {},
   "outputs": [],
   "source": [
    "# TODO: figure out how to do this with --numpy-data \n",
    "# maybe just replace this with the mnist? \n",
    "# np.save(\"../data/mnist/input_layer.npy\", img)"
   ]
  },
  {
   "cell_type": "markdown",
   "metadata": {},
   "source": [
    "```bash\n",
    "konduit serve --config ../yaml/tensorflow-mnist.yaml\n",
    "konduit predict-numpy --config ../yaml/tensorflow-mnist.yaml --numpy_data ../data/mnist/input_layer.npy\n",
    "konduit stop-server --config ../yaml/tensorflow-mnist.yaml\n",
    "```"
   ]
  },
  {
   "cell_type": "markdown",
   "metadata": {},
   "source": [
    "## Keras \n",
    "\n",
    "```yaml\n",
    "serving:\n",
    "  http_port: 1337\n",
    "steps:\n",
    "  keras_step:\n",
    "    type: KERAS\n",
    "    model_loading_path: ../data/keras/embedding_lstm_tensorflow_2.h5\n",
    "    input_names:\n",
    "    - input \n",
    "    output_names:\n",
    "    - lstm_1\n",
    "client:\n",
    "    port: 1337\n",
    "```"
   ]
  },
  {
   "cell_type": "markdown",
   "metadata": {},
   "source": [
    "```bash\n",
    "konduit serve --config ../yaml/keras.yaml\n",
    "konduit predict-numpy --config ../yaml/keras.yaml --numpy_data ../data/keras/input.npy\n",
    "konduit stop-server --config ../yaml/keras.yaml\n",
    "```"
   ]
  },
  {
   "cell_type": "code",
   "execution_count": 12,
   "metadata": {},
   "outputs": [
    {
     "name": "stdout",
     "output_type": "stream",
     "text": [
      "Starting server....\n",
      "\n",
      "Server has started successfully.\n",
      "[[[0.49911702 0.4983615  0.49773094 0.49721536 0.496801   0.49647287\n",
      "   0.49621654 0.49601877 0.495868   0.4957543 ]\n",
      "  [0.49977526 0.49945772 0.49912393 0.4988142  0.49854672 0.49832645\n",
      "   0.49815112 0.49801567 0.49791327 0.49783763]\n",
      "  [0.5001145  0.5001818  0.500209   0.50020653 0.50018466 0.50015163\n",
      "   0.50011355 0.5000747  0.5000376  0.5000038 ]\n",
      "  [0.499907   0.49980363 0.4997118  0.499638   0.49958205 0.49954122\n",
      "   0.4995122  0.49949202 0.49947822 0.4994689 ]\n",
      "  [0.49957263 0.4993314  0.49921444 0.49917603 0.4991838  0.499216\n",
      "   0.4992586  0.49930325 0.4993452  0.4993822 ]\n",
      "  [0.50122684 0.5020251  0.5025376  0.50286067 0.50305897 0.50317615\n",
      "   0.5032414  0.50327414 0.50328714 0.50328875]]]\n"
     ]
    }
   ],
   "source": [
    "input_array = np.random.uniform(size = [10])\n",
    "np.save(\"../data/keras/input.npy\", input_array)\n",
    "konduit_yaml_path = \"../yaml/keras.yaml\"\n",
    "server = server_from_file(konduit_yaml_path)\n",
    "client = client_from_file(konduit_yaml_path)\n",
    "print(client.predict({\"input\": input_array}))\n",
    "\n",
    "server.stop()"
   ]
  }
 ],
 "metadata": {
  "kernelspec": {
   "display_name": "Python 3",
   "language": "python",
   "name": "python3"
  },
  "language_info": {
   "codemirror_mode": {
    "name": "ipython",
    "version": 3
   },
   "file_extension": ".py",
   "mimetype": "text/x-python",
   "name": "python",
   "nbconvert_exporter": "python",
   "pygments_lexer": "ipython3",
   "version": "3.7.3"
  }
 },
 "nbformat": 4,
 "nbformat_minor": 4
}
