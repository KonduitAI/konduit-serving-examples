{
 "cells": [
  {
   "cell_type": "markdown",
   "metadata": {},
   "source": [
    "# Memory mapping in Konduit Serving \n",
    "\n",
    "A `MemMapConfig` enables memory mapping capabilities for a Konduit Serving instance. Rather than reading an entire large file into memory, small segments of the file are loaded into memory whenever needed. This can reduce I/O data movement and thus the number of access operations needed to retrieve data. \n",
    "\n",
    "A MemMapConfig can be declared as part of an InferenceConfiguration."
   ]
  },
  {
   "cell_type": "code",
   "execution_count": 1,
   "metadata": {},
   "outputs": [],
   "source": [
    "from konduit import PythonConfig, PythonStep, ServingConfig, PythonConfig, \\\n",
    "InferenceConfiguration, MemMapConfig\n",
    "from konduit.client import Client\n",
    "from konduit.server import Server \n",
    "import time \n",
    "import numpy as np \n",
    "import os \n",
    "\n",
    "if not os.path.exists(\"../data/memmap\"):\n",
    "    os.mkdir(\"../data/memmap\")"
   ]
  },
  {
   "cell_type": "code",
   "execution_count": 2,
   "metadata": {},
   "outputs": [],
   "source": [
    "array_path = \"../data/memmap/array_path.npy\"\n",
    "unk_vector_path = \"../data/memmap/unk_vector.npy\"\n",
    "array = np.array([[1, 3, 5, 7], [2, 4, 6, 8]])\n",
    "unk_vector = [[3, 4, 5, 6]]\n",
    "np.save(array_path, array)\n",
    "np.save(unk_vector_path, unk_vector)"
   ]
  },
  {
   "cell_type": "code",
   "execution_count": 3,
   "metadata": {},
   "outputs": [],
   "source": [
    "python_config = PythonConfig(\n",
    "    python_code='first += 2',\n",
    "    python_inputs={'first': 'NDARRAY'},\n",
    "    python_outputs={'first': 'NDARRAY'},\n",
    ")\n",
    "    \n",
    "python_step = PythonStep().step(python_config)"
   ]
  },
  {
   "cell_type": "code",
   "execution_count": 4,
   "metadata": {},
   "outputs": [],
   "source": [
    "inference_config = InferenceConfiguration(\n",
    "    pipeline_steps=[python_step], \n",
    "    serving_config=ServingConfig(http_port=9999), \n",
    "    mem_map_config=MemMapConfig(\n",
    "        array_path=\"../data/memmap/array_path.npy\",\n",
    "        unk_vector_path=\"../data/memmap/unk_vector.npy\"\n",
    "    )\n",
    ")"
   ]
  },
  {
   "cell_type": "code",
   "execution_count": 5,
   "metadata": {},
   "outputs": [],
   "source": [
    "server = Server(inference_config=inference_config)"
   ]
  },
  {
   "cell_type": "code",
   "execution_count": 6,
   "metadata": {},
   "outputs": [
    {
     "name": "stdout",
     "output_type": "stream",
     "text": [
      "[[6]]\n"
     ]
    }
   ],
   "source": [
    "server.start()\n",
    "time.sleep(10)\n",
    "client = Client(url='http://localhost:' + str(9999))\n",
    "output = client.predict({\"default\": np.array([4])})\n",
    "print(output)\n",
    "server.stop()"
   ]
  }
 ],
 "metadata": {
  "kernelspec": {
   "display_name": "Python 3",
   "language": "python",
   "name": "python3"
  },
  "language_info": {
   "codemirror_mode": {
    "name": "ipython",
    "version": 3
   },
   "file_extension": ".py",
   "mimetype": "text/x-python",
   "name": "python",
   "nbconvert_exporter": "python",
   "pygments_lexer": "ipython3",
   "version": "3.7.5"
  }
 },
 "nbformat": 4,
 "nbformat_minor": 4
}
