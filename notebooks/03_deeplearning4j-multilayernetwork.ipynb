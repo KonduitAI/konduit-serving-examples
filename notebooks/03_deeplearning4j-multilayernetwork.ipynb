{
 "cells": [
  {
   "cell_type": "markdown",
   "metadata": {},
   "source": [
    "# Serve an image classification model built in Deeplearning4j with Konduit Serving"
   ]
  },
  {
   "cell_type": "markdown",
   "metadata": {},
   "source": [
    "This notebook illustrates a simple client-server interaction to perform inference on a Deeplearning4j image classification model using the Python SDK for Konduit Serving.\n"
   ]
  },
  {
   "cell_type": "code",
   "execution_count": 1,
   "metadata": {},
   "outputs": [],
   "source": [
    "from konduit import ModelConfig, TensorDataTypesConfig, ModelConfigType, ModelStep, ParallelInferenceConfig, \\\n",
    "ServingConfig, InferenceConfiguration\n",
    "\n",
    "from konduit.server import Server\n",
    "from konduit.client import Client\n",
    "import numpy as np \n",
    "\n",
    "import os "
   ]
  },
  {
   "cell_type": "markdown",
   "metadata": {},
   "source": [
    "## Saving models in Deeplearning4j \n",
    "The following is a short Java program that loads a simple CNN model from Deeplearning4j's model zoo, initializes weights, then saves the model to a new file, \"SimpleCNN.zip\". \n"
   ]
  },
  {
   "cell_type": "markdown",
   "metadata": {},
   "source": [
    "```java\n",
    "import org.deeplearning4j.nn.conf.MultiLayerConfiguration;\n",
    "import org.deeplearning4j.nn.multilayer.MultiLayerNetwork;\n",
    "import org.deeplearning4j.zoo.ZooModel;\n",
    "import org.deeplearning4j.zoo.model.SimpleCNN;\n",
    "\n",
    "import java.io.File;\n",
    "\n",
    "public class SaveSimpleCNN {\n",
    "    private static int nClasses = 5;\n",
    "    private static boolean saveUpdater = false;\n",
    "\n",
    "    public static void main(String[] args) throws Exception {\n",
    "        ZooModel zooModel = SimpleCNN.builder()\n",
    "            .numClasses(nClasses)\n",
    "            .inputShape(new int[]{3, 224, 224})\n",
    "            .build();\n",
    "        MultiLayerConfiguration conf = ((SimpleCNN) zooModel).conf();\n",
    "        MultiLayerNetwork net = new MultiLayerNetwork(conf);\n",
    "        net.init();\n",
    "        System.out.println(net.summary());\n",
    "        File locationToSave = new File(\"SimpleCNN.zip\");\n",
    "        net.save(locationToSave, saveUpdater);\n",
    "    }\n",
    "}\n",
    "\n",
    "```\n",
    "\n",
    "A reference Java project using Deeplearning4j 1.0.0-beta5 is provided in this repository with a Maven `pom.xml` dependencies file. If using the IntelliJ IDEA IDE, open the `java` folder as a Maven project and run the `main` function of the `SaveSimpleCNN` class. "
   ]
  },
  {
   "cell_type": "markdown",
   "metadata": {},
   "source": [
    "# Overview\n",
    "\n",
    "Konduit Serving works by defining a series of **steps**. These include operations such as \n",
    "1. Pre- or post-processing steps\n",
    "2. One or more machine learning models\n",
    "3. Transforming the output in a way that can be understood by humans\n",
    "\n",
    "If deploying your model does not require pre- nor post-processing, only one step - a machine learning model - is required. This configuration is defined using a single `ModelStep`. \n",
    "\n",
    "Before running this notebook, run the `build_jar.py` script and copy the JAR (`konduit.jar`) to this folder. Refer to the [Python SDK README](https://github.com/KonduitAI/konduit-serving/blob/master/python/README.md) for details. "
   ]
  },
  {
   "cell_type": "markdown",
   "metadata": {},
   "source": [
    "# Configure the step \n",
    "\n",
    "Define the Deeplearning4j configuration as a `TensorFlowConfig` object. \n",
    "\n",
    "- `tensor_data_types_config`: The ModelConfig object requires a dictionary `input_data_types`. Its keys should represent column names, and the values should represent data types as strings, e.g. `\"INT32\"`. See [here](https://github.com/KonduitAI/konduit-serving/blob/master/konduit-serving-api/src/main/java/ai/konduit/serving/model/TensorDataType.java) for a list of supported data types. \n",
    "- `model_config_type`: This argument requires a `ModelConfigType` object. In the Java program above, we recognised that SimpleCNN is configured as a MultiLayerNetwork, in contrast with the ComputationGraph class, which is used for more complex networks. Specify `model_type` as `MULTI_LAYER_NETWORK`, and `model_loading_path` to point to the location of Deeplearning4j weights saved in the ZIP file format.\n",
    "\n",
    "\n",
    "For the `ModelStep` object, the  following parameters are specified: \n",
    "- `model_config`: pass the ModelConfig object here \n",
    "- `parallel_inference_config`: specify the number of workers to run in parallel. Here, we specify `workers=1`.\n",
    "- `input_names`:  names for the input data  \n",
    "- `output_names`: names for the output data\n",
    "\n",
    "To find the names of input and output nodes in Deeplearning4j, \n",
    "\n",
    "- for `input_names`, print the first element of `net.getLayerNames()`.\n",
    "- for `output_names`, check the last layer when printing `net.summary()`. \n"
   ]
  },
  {
   "cell_type": "code",
   "execution_count": 2,
   "metadata": {},
   "outputs": [],
   "source": [
    "input_data_types = {\"image_array\": \"FLOAT\"}\n",
    "input_names = list(input_data_types.keys())\n",
    "output_names = [\"output\"]\n",
    "port = np.random.randint(1000, 65535)\n",
    "\n",
    "dl4j_config = ModelConfig(\n",
    "    tensor_data_types_config=TensorDataTypesConfig(\n",
    "        input_data_types=input_data_types\n",
    "    ), \n",
    "    model_config_type=ModelConfigType(\n",
    "        model_type=\"MULTI_LAYER_NETWORK\", \n",
    "        model_loading_path=os.path.abspath(\"../data/multilayernetwork/SimpleCNN.zip\")\n",
    "    )\n",
    ")\n",
    "\n",
    "dl4j_step = ModelStep(\n",
    "    model_config=dl4j_config,\n",
    "    parallel_inference_config=ParallelInferenceConfig(workers=1),\n",
    "    input_names=input_names,\n",
    "    output_names=output_names\n",
    ")"
   ]
  },
  {
   "cell_type": "markdown",
   "metadata": {},
   "source": [
    "# Configure the server\n",
    "Specify the following:\n",
    "- `http_port`: select a random port.\n",
    "- `input_data_format`, `output_data_format`: Specify input and output data formats as strings. \n",
    "\n",
    "{% hint style=\"info\" %}\n",
    "Accepted input and output data formats are as follows:\n",
    "\n",
    "*  Input: JSON, ARROW, IMAGE, ND4J \\(not yet implemented\\) and NUMPY.\n",
    "*  Output: NUMPY, JSON, ND4J \\(not yet implemented\\) and ARROW.\n",
    "{% endhint %}\n",
    "\n",
    "The `ServingConfig` has to be passed to `Server` in addition to the steps as a Python list. In this case, there is a single step: `dl4j_step`. "
   ]
  },
  {
   "cell_type": "code",
   "execution_count": 3,
   "metadata": {},
   "outputs": [],
   "source": [
    "serving_config = ServingConfig(\n",
    "    http_port=port,\n",
    "    input_data_format='NUMPY',\n",
    "    output_data_format='NUMPY'\n",
    ")\n",
    "\n",
    "server = Server(\n",
    "    serving_config=serving_config,\n",
    "    steps=[dl4j_step]\n",
    ")"
   ]
  },
  {
   "cell_type": "markdown",
   "metadata": {},
   "source": [
    "# Start the server"
   ]
  },
  {
   "cell_type": "code",
   "execution_count": 4,
   "metadata": {},
   "outputs": [
    {
     "name": "stdout",
     "output_type": "stream",
     "text": [
      "Starting server.......\n",
      "\n",
      "Server has started successfully.\n"
     ]
    },
    {
     "data": {
      "text/plain": [
       "<subprocess.Popen at 0x232fd7a7748>"
      ]
     },
     "execution_count": 4,
     "metadata": {},
     "output_type": "execute_result"
    }
   ],
   "source": [
    "server.start()"
   ]
  },
  {
   "cell_type": "markdown",
   "metadata": {},
   "source": [
    "# Configure the client \n",
    "\n",
    "To configure the client, create a Client object:\n"
   ]
  },
  {
   "cell_type": "code",
   "execution_count": 5,
   "metadata": {},
   "outputs": [],
   "source": [
    "client = Client(port=port)"
   ]
  },
  {
   "cell_type": "markdown",
   "metadata": {},
   "source": [
    "# Inference"
   ]
  },
  {
   "cell_type": "markdown",
   "metadata": {},
   "source": [
    "We generate a (3, 224, 224) array of random numbers between 0 and 255 as input to the model for prediction. "
   ]
  },
  {
   "cell_type": "markdown",
   "metadata": {},
   "source": [
    "Before requesting for a prediction, we normalize the image to be between 0 and 1: "
   ]
  },
  {
   "cell_type": "code",
   "execution_count": 6,
   "metadata": {},
   "outputs": [],
   "source": [
    "rand_image = np.random.randint(255, size=(3, 224, 224)) / 255"
   ]
  },
  {
   "cell_type": "code",
   "execution_count": 7,
   "metadata": {},
   "outputs": [
    {
     "name": "stdout",
     "output_type": "stream",
     "text": [
      "[[4.1421477e-02 3.2405543e-01 2.4740364e-02 3.9147784e-05 6.0974360e-01]]\n"
     ]
    }
   ],
   "source": [
    "prediction = client.predict({\"image_array\": rand_image})\n",
    "print(prediction)\n",
    "\n",
    "server.stop()"
   ]
  }
 ],
 "metadata": {
  "kernelspec": {
   "display_name": "Python 3",
   "language": "python",
   "name": "python3"
  },
  "language_info": {
   "codemirror_mode": {
    "name": "ipython",
    "version": 3
   },
   "file_extension": ".py",
   "mimetype": "text/x-python",
   "name": "python",
   "nbconvert_exporter": "python",
   "pygments_lexer": "ipython3",
   "version": "3.7.3"
  }
 },
 "nbformat": 4,
 "nbformat_minor": 4
}
