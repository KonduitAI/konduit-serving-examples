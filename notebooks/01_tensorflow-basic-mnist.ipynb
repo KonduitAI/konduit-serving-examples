{
 "cells": [
  {
   "cell_type": "markdown",
   "metadata": {},
   "source": [
    "# TensorFlow model serving with Konduit Serving\n",
    "\n",
    "This notebook illustrates a simple client-server interaction to perform inference on a TensorFlow model using the Python SDK for Konduit Serving.\n",
    "\n",
    "This tutorial is split into three parts: \n",
    "\n",
    "1. Freezing models \n",
    "2. Configuration \n",
    "2. Running the server"
   ]
  },
  {
   "cell_type": "markdown",
   "metadata": {},
   "source": [
    "{% hint style=\"info\" %} This tutorial is tested on TensorFlow 1.14, 1.15 and 2.00.  {% endhint %}"
   ]
  },
  {
   "cell_type": "code",
   "execution_count": 1,
   "metadata": {},
   "outputs": [
    {
     "name": "stderr",
     "output_type": "stream",
     "text": [
      "Using TensorFlow backend.\n"
     ]
    }
   ],
   "source": [
    "from konduit import ParallelInferenceConfig, ServingConfig, TensorFlowConfig, ModelConfigType\n",
    "from konduit import TensorDataTypesConfig, ModelStep, InferenceConfiguration\n",
    "from konduit.server import Server\n",
    "from konduit.client import Client\n",
    "\n",
    "import tensorflow as tf\n",
    "\n",
    "if tf.__version__[0] == \"1\":     \n",
    "    from tensorflow import keras\n",
    "elif tf.__version__[0] == \"2\": \n",
    "    import tensorflow.compat.v1 as tf\n",
    "    from tensorflow.compat.v1 import keras\n",
    "else: \n",
    "    print(\"No valid TensorFlow version detected\")\n",
    "    \n",
    "from keras.layers import Flatten, Dense, Dropout, Lambda\n",
    "from keras.models import Sequential\n",
    "from keras.datasets import mnist\n",
    "\n",
    "from PIL import Image\n",
    "import numpy as np\n",
    "import time\n",
    "import imageio\n",
    "import os\n",
    "import matplotlib.pyplot as plt \n",
    "import pandas as pd "
   ]
  },
  {
   "cell_type": "code",
   "execution_count": 2,
   "metadata": {},
   "outputs": [
    {
     "name": "stdout",
     "output_type": "stream",
     "text": [
      "2.0.0\n"
     ]
    }
   ],
   "source": [
    "tensorflow_version = tf.__version__\n",
    "print(tensorflow_version)"
   ]
  },
  {
   "cell_type": "markdown",
   "metadata": {},
   "source": [
    "# Creating frozen models (Tensorflow 1.x)\n",
    "\n",
    "In TensorFlow 1.x, \"frozen\" models can be exported in the TensorFlow Graph format. For deployment, we only need information on the graph and checkpoint variables. Freezing a model allows you to discard information that is not required for deploying your model. \n",
    "\n",
    "{% hint style=\"warning\" %} TensorFlow 2.0 introduces the <a href=\"https://www.tensorflow.org/guide/saved_model\">SavedModel format</a> as the universal format for saving models. Even though the deployable protobuff (PB) files have the same file extension as frozen TensorFlow Graph files, SavedModel protobuff files are not currently supported in Konduit Serving. A workaround for TensorFlow 2.0 is to adapt the code from this tutorial for your use case to create TensorFlow Graph protobuffs. \n",
    "{% endhint %}\n",
    "\n",
    "The following code is adapted from `tf-import-examples` in the [`deeplearning4j-examples`](https://github.com/eclipse/deeplearning4j-examples/) repository."
   ]
  },
  {
   "cell_type": "markdown",
   "metadata": {},
   "source": [
    "In the following code, we build a model using TensorFlow's Keras API and save it as a TensorFlow Graph. The architecture is adapted from the following Kaggle kernel: https://inclass.kaggle.com/charel/learn-by-example-neural-networks-hello-world/notebook."
   ]
  },
  {
   "cell_type": "code",
   "execution_count": 3,
   "metadata": {},
   "outputs": [
    {
     "name": "stdout",
     "output_type": "stream",
     "text": [
      "WARNING:tensorflow:From C:\\Users\\Skymind AI Berhad\\AppData\\Local\\Continuum\\miniconda3\\lib\\site-packages\\tensorflow_core\\python\\ops\\resource_variable_ops.py:1630: calling BaseResourceVariable.__init__ (from tensorflow.python.ops.resource_variable_ops) with constraint is deprecated and will be removed in a future version.\n",
      "Instructions for updating:\n",
      "If using Keras pass *_constraint arguments to layers.\n",
      "input_layer\n",
      "output_layer/Softmax\n",
      "Train on 60000 samples\n",
      "Epoch 1/8\n",
      "60000/60000 [==============================] - 3s 53us/sample - loss: 0.6455 - accuracy: 0.8127\n",
      "Epoch 2/8\n",
      "60000/60000 [==============================] - 3s 54us/sample - loss: 0.2445 - accuracy: 0.9290\n",
      "Epoch 3/8\n",
      "60000/60000 [==============================] - 3s 52us/sample - loss: 0.1873 - accuracy: 0.9451\n",
      "Epoch 4/8\n",
      "60000/60000 [==============================] - 3s 48us/sample - loss: 0.1526 - accuracy: 0.9549\n",
      "Epoch 5/8\n",
      "60000/60000 [==============================] - 3s 49us/sample - loss: 0.1274 - accuracy: 0.9626\n",
      "Epoch 6/8\n",
      "60000/60000 [==============================] - 3s 47us/sample - loss: 0.1100 - accuracy: 0.9681\n",
      "Epoch 7/8\n",
      "60000/60000 [==============================] - 3s 47us/sample - loss: 0.0950 - accuracy: 0.9722\n",
      "Epoch 8/8\n",
      "60000/60000 [==============================] - 3s 48us/sample - loss: 0.0832 - accuracy: 0.9754\n",
      "10000/10000 [==============================] - 0s 29us/sample - loss: 0.1063 - accuracy: 0.9666\n",
      "WARNING:tensorflow:From <ipython-input-3-3e44ee2b8acb>:54: convert_variables_to_constants (from tensorflow.python.framework.graph_util_impl) is deprecated and will be removed in a future version.\n",
      "Instructions for updating:\n",
      "Use `tf.compat.v1.graph_util.convert_variables_to_constants`\n",
      "WARNING:tensorflow:From C:\\Users\\Skymind AI Berhad\\AppData\\Local\\Continuum\\miniconda3\\lib\\site-packages\\tensorflow_core\\python\\framework\\graph_util_impl.py:275: extract_sub_graph (from tensorflow.python.framework.graph_util_impl) is deprecated and will be removed in a future version.\n",
      "Instructions for updating:\n",
      "Use `tf.compat.v1.graph_util.extract_sub_graph`\n",
      "INFO:tensorflow:Froze 10 variables.\n",
      "INFO:tensorflow:Converted 10 variables to const ops.\n"
     ]
    }
   ],
   "source": [
    "# Load data\n",
    "train_data, test_data = mnist.load_data()\n",
    "x_train, y_train = train_data\n",
    "x_test, y_test = test_data\n",
    "\n",
    "# Normalize\n",
    "x_train = x_train / 255.0\n",
    "x_test  = x_test / 255.0\n",
    "\n",
    "weights = None\n",
    "\n",
    "def get_model(training=False): \n",
    "    inputs = keras.layers.Input(shape=(28, 28), name=\"input_layer\")\n",
    "    x = keras.layers.Flatten()(inputs)\n",
    "    x = keras.layers.Dense(200, activation=\"relu\")(x)\n",
    "    x = keras.layers.Dense(100, activation=\"relu\")(x)\n",
    "    x = keras.layers.Dense(60, activation=\"relu\")(x)\n",
    "    x = keras.layers.Dense(30, activation=\"relu\")(x)\n",
    "    outputs = keras.layers.Dense(10, activation=\"softmax\", name=\"output_layer\")(x)\n",
    "    model = tf.keras.Model(inputs=inputs, outputs=outputs)\n",
    "    model.compile(\n",
    "        optimizer='sgd', \n",
    "        loss='sparse_categorical_crossentropy', \n",
    "        metrics=['accuracy']\n",
    "    )\n",
    "    \n",
    "    if training: \n",
    "        print(model.inputs[0].op.name)\n",
    "        print(model.outputs[0].op.name)\n",
    "        \n",
    "    return model\n",
    "    \n",
    "    \n",
    "def train():\n",
    "    with tf.Session() as sess:\n",
    "        keras.backend.set_session(sess)\n",
    "        model = get_model(True)\n",
    "        model.fit(x_train, y_train, epochs=8)\n",
    "        weights = model.get_weights()\n",
    "    return weights\n",
    "\n",
    "def save(weights):\n",
    "    # save model to a protobuff\n",
    "    keras.backend.clear_session()\n",
    "    with tf.Session() as sess:\n",
    "        keras.backend.set_session(sess)\n",
    "        model = get_model(False)\n",
    "        model.set_weights(weights)\n",
    "        model.evaluate(x_test, y_test)\n",
    "        output_node_name = model.output.name.split(':')[0]\n",
    "        output_graph_def = tf.graph_util.convert_variables_to_constants(\n",
    "            sess, \n",
    "            sess.graph.as_graph_def(), \n",
    "            [output_node_name]\n",
    "        )\n",
    "        \n",
    "        with tf.gfile.GFile(\n",
    "            name=f\"../data/mnist/mnist_{tensorflow_version}.pb\", \n",
    "            mode=\"wb\"\n",
    "        ) as f:\n",
    "            f.write(output_graph_def.SerializeToString())\n",
    "\n",
    "weights = train()\n",
    "save(weights)"
   ]
  },
  {
   "cell_type": "markdown",
   "metadata": {},
   "source": [
    "## Configuration\n",
    "\n",
    "Konduit Serving works by defining a series of **steps**. These include operations such as \n",
    "1. Pre- or post-processing steps\n",
    "2. One or more machine learning models\n",
    "3. Transforming the output in a way that can be understood by humans\n",
    "\n",
    "If deploying your model does not require pre- nor post-processing, only one step - a machine learning model - is required. This configuration is defined using a single `ModelStep`. \n",
    "\n",
    "Before running this notebook, run the `build_jar.py` script and copy the JAR (`konduit.jar`) to this folder. Refer to the [Python SDK README](https://github.com/KonduitAI/konduit-serving/blob/master/python/README.md) for details. "
   ]
  },
  {
   "cell_type": "markdown",
   "metadata": {},
   "source": [
    "### Input and output nodes \n",
    "\n",
    "Konduit Serving requires input and output names to be specified. In TensorFlow, you can find the names of your input and output nodes by printing `model.inputs[0].op.name` and `model.inputs[1].op.name` respectively. For more details, please refer to this [StackOverflow answer](https://stackoverflow.com/a/49154874/12260518). "
   ]
  },
  {
   "cell_type": "code",
   "execution_count": 4,
   "metadata": {},
   "outputs": [],
   "source": [
    "# make note of hwo to obtain input_name and output_name\n",
    "input_data_types = {'input_layer': 'FLOAT'}\n",
    "input_names = list(input_data_types.keys())\n",
    "output_names = [\"output_layer/Softmax\"]"
   ]
  },
  {
   "cell_type": "markdown",
   "metadata": {},
   "source": [
    "### Configuring `ModelStep` \n",
    "\n",
    "Define the TensorFlow configuration as a `TensorFlowConfig` object. \n",
    "\n",
    "- `tensor_data_types_config`: The TensorFlowConfig object requires a dictionary `input_data_types`. Its keys should represent column names, and the values should represent data types as strings, e.g. `\"INT32\"`. See [here](https://github.com/KonduitAI/konduit-serving/blob/master/konduit-serving-api/src/main/java/ai/konduit/serving/model/TensorDataType.java) for a list of supported data types. \n",
    "- `model_config_type`: This argument requires a `ModelConfigType` object. Specify `model_type` as `TENSORFLOW`, and `model_loading_path` to point to the location of TensorFlow weights saved in the PB file format.\n"
   ]
  },
  {
   "cell_type": "code",
   "execution_count": 5,
   "metadata": {},
   "outputs": [],
   "source": [
    "from konduit import TensorFlowConfig, ModelConfigType\n",
    "import os\n",
    "tensorflow_version = \"2.0.0\""
   ]
  },
  {
   "cell_type": "code",
   "execution_count": 6,
   "metadata": {},
   "outputs": [],
   "source": [
    "tensorflow_config = TensorFlowConfig(\n",
    "    tensor_data_types_config = TensorDataTypesConfig(\n",
    "        input_data_types=input_data_types\n",
    "        ),\n",
    "    model_config_type = ModelConfigType(\n",
    "        model_type='TENSORFLOW',\n",
    "        model_loading_path=os.path.abspath(\n",
    "            f'../data/mnist/mnist_{tensorflow_version}.pb'\n",
    "        )\n",
    "    )\n",
    ")"
   ]
  },
  {
   "cell_type": "code",
   "execution_count": 7,
   "metadata": {},
   "outputs": [
    {
     "data": {
      "text/plain": [
       "{'@type': 'TensorFlowConfig',\n",
       " 'tensorDataTypesConfig': {'@type': 'TensorDataTypesConfig',\n",
       "  'inputDataTypes': {'input_layer': 'FLOAT'}},\n",
       " 'modelConfigType': {'@type': 'ModelConfigType',\n",
       "  'modelType': 'TENSORFLOW',\n",
       "  'modelLoadingPath': 'C:\\\\Users\\\\Skymind AI Berhad\\\\Documents\\\\konduit-serving-examples\\\\data\\\\mnist\\\\mnist_2.0.0.pb'}}"
      ]
     },
     "execution_count": 7,
     "metadata": {},
     "output_type": "execute_result"
    }
   ],
   "source": [
    "tensorflow_config.as_dict()"
   ]
  },
  {
   "cell_type": "markdown",
   "metadata": {},
   "source": [
    "Now that we have a `TensorFlowConfig` defined, we can define a `ModelStep`. The following parameters are specified: \n",
    "- `model_config`: pass the TensorFlowConfig object here \n",
    "- `parallel_inference_config`: specify the number of workers to run in parallel. Here, we specify `workers = 1`.\n",
    "- `input_names`:  names for the input data  \n",
    "- `output_names`: names for the output data"
   ]
  },
  {
   "cell_type": "code",
   "execution_count": 8,
   "metadata": {},
   "outputs": [],
   "source": [
    "tf_step = ModelStep(\n",
    "    model_config=tensorflow_config,\n",
    "    parallel_inference_config=ParallelInferenceConfig(workers=1),\n",
    "    input_names=input_names,\n",
    "    output_names=output_names\n",
    ")"
   ]
  },
  {
   "cell_type": "markdown",
   "metadata": {},
   "source": [
    "\n",
    "### Configuring the server\n",
    "\n",
    "Specify the following:\n",
    "- `http_port`: select a random port.\n",
    "- `input_data_type`, `output_data_type`: Specify input and output data types as strings. \n",
    "\n",
    "{% hint style=\"info\" %}\n",
    "Accepted input and output data types are as follows:\n",
    "\n",
    "*  Input: JSON, ARROW, IMAGE, ND4J \\(not yet implemented\\) and NUMPY.\n",
    "*  Output: NUMPY, JSON, ND4J \\(not yet implemented\\) and ARROW.\n",
    "{% endhint %}"
   ]
  },
  {
   "cell_type": "code",
   "execution_count": 9,
   "metadata": {},
   "outputs": [],
   "source": [
    "port = np.random.randint(1000, 65535)\n",
    "serving_config = ServingConfig(\n",
    "    http_port=port,\n",
    "    input_data_type='NUMPY',\n",
    "    output_data_type='NUMPY'\n",
    ")"
   ]
  },
  {
   "cell_type": "markdown",
   "metadata": {},
   "source": [
    "The `ServingConfig` has to be passed to `Server` in addition to the steps as a Python list. In this case, there is a single step: `tf_step`. "
   ]
  },
  {
   "cell_type": "code",
   "execution_count": 10,
   "metadata": {},
   "outputs": [],
   "source": [
    "server = Server(\n",
    "    serving_config=serving_config,\n",
    "    steps=[tf_step]\n",
    ")"
   ]
  },
  {
   "cell_type": "markdown",
   "metadata": {},
   "source": [
    "By default, `Server()` looks for the Konduit Serving JAR `konduit.jar` in the directory the script is run in. To change this default, use the `jar_path` argument."
   ]
  },
  {
   "cell_type": "markdown",
   "metadata": {},
   "source": [
    "The configuration is stored as a dictionary. Note that the configuration can be converted to a dictionary using the `as_dict()` method: "
   ]
  },
  {
   "cell_type": "code",
   "execution_count": 11,
   "metadata": {},
   "outputs": [
    {
     "data": {
      "text/plain": [
       "{'@type': 'InferenceConfiguration',\n",
       " 'pipelineSteps': [{'@type': 'ModelStep',\n",
       "   'inputNames': ['input_layer'],\n",
       "   'outputNames': ['output_layer/Softmax'],\n",
       "   'modelConfig': {'@type': 'TensorFlowConfig',\n",
       "    'tensorDataTypesConfig': {'@type': 'TensorDataTypesConfig',\n",
       "     'inputDataTypes': {'input_layer': 'FLOAT'}},\n",
       "    'modelConfigType': {'@type': 'ModelConfigType',\n",
       "     'modelType': 'TENSORFLOW',\n",
       "     'modelLoadingPath': 'C:\\\\Users\\\\Skymind AI Berhad\\\\Documents\\\\konduit-serving-examples\\\\data\\\\mnist\\\\mnist_2.0.0.pb'}},\n",
       "   'parallelInferenceConfig': {'@type': 'ParallelInferenceConfig',\n",
       "    'workers': 1}}],\n",
       " 'servingConfig': {'@type': 'ServingConfig',\n",
       "  'httpPort': 8252,\n",
       "  'inputDataType': 'NUMPY',\n",
       "  'outputDataType': 'NUMPY',\n",
       "  'logTimings': True}}"
      ]
     },
     "execution_count": 11,
     "metadata": {},
     "output_type": "execute_result"
    }
   ],
   "source": [
    "server.config.as_dict()"
   ]
  },
  {
   "cell_type": "markdown",
   "metadata": {},
   "source": [
    "### Configuring the client \n",
    "\n",
    "To configure the client, create a Client object with the following arguments: \n",
    "- `input_names`: names of the input data\n",
    "- `output_names`: names of the output data\n",
    "- `input_type`: data type passed to the server for inference\n",
    "- `endpoint_output_type`: data type returned by the server endpoint \n",
    "- `return_output_type`: data type to be returned to the client. Note that this argument can be used to convert the output returned from the server to the client into a different format, e.g. NUMPY to JSON.\n",
    "\n",
    "\n",
    "{% hint style=\"warning\" %}\n",
    "Future versions of the Python SDK may remove the `input_names` and `output_names` arguments in `Client()`, since these are already specified in `ModelStep()`.\n",
    "{% endhint %}"
   ]
  },
  {
   "cell_type": "code",
   "execution_count": 12,
   "metadata": {},
   "outputs": [],
   "source": [
    "client = Client(\n",
    "    input_names=input_names,\n",
    "    output_names=output_names,\n",
    "    input_type='NUMPY',\n",
    "    endpoint_output_type='NUMPY',\n",
    "    return_output_type=\"NUMPY\",\n",
    "    url='http://localhost:' + str(port)\n",
    ")"
   ]
  },
  {
   "cell_type": "markdown",
   "metadata": {},
   "source": [
    "## Running the server "
   ]
  },
  {
   "cell_type": "markdown",
   "metadata": {},
   "source": [
    "We obtain test images from the test set defined by `keras.datasets`. \n",
    "\n",
    "Note the following: \n",
    "- `imageio.imread` produces a NumPy array subclass. This should be coerced into a regular `np.ndarray` using `np.array()` to be accepted by Konduit Serving. \n",
    "- the data type of NumPy arrays produced by `imageio.imread` is `np.uint8`. This is not supported by Konduit Serving, and you should cast the array into a supported type using the `.astype()` method. "
   ]
  },
  {
   "cell_type": "markdown",
   "metadata": {},
   "source": [
    "Start the server and wait 30 seconds for the server to start before the client requests the server for a prediction using the `data_input`. "
   ]
  },
  {
   "cell_type": "code",
   "execution_count": 13,
   "metadata": {},
   "outputs": [
    {
     "data": {
      "image/png": "[encoded data removed]",
      "text/plain": [
       "<Figure size 432x288 with 1 Axes>"
      ]
     },
     "metadata": {
      "needs_background": "light"
     },
     "output_type": "display_data"
    },
    {
     "name": "stdout",
     "output_type": "stream",
     "text": [
      "{0: 0.0, 1: 0.0, 2: 0.001, 3: 0.001, 4: 0.0, 5: 0.0, 6: 0.0, 7: 0.998, 8: 0.0, 9: 0.0}\n"
     ]
    },
    {
     "data": {
      "image/png": "[encoded data removed]",
      "text/plain": [
       "<Figure size 432x288 with 1 Axes>"
      ]
     },
     "metadata": {
      "needs_background": "light"
     },
     "output_type": "display_data"
    },
    {
     "name": "stdout",
     "output_type": "stream",
     "text": [
      "{0: 0.0, 1: 0.0, 2: 0.994, 3: 0.006, 4: 0.0, 5: 0.0, 6: 0.0, 7: 0.0, 8: 0.0, 9: 0.0}\n"
     ]
    },
    {
     "data": {
      "image/png": "[encoded data removed]",
      "text/plain": [
       "<Figure size 432x288 with 1 Axes>"
      ]
     },
     "metadata": {
      "needs_background": "light"
     },
     "output_type": "display_data"
    },
    {
     "name": "stdout",
     "output_type": "stream",
     "text": [
      "{0: 0.0, 1: 0.993, 2: 0.001, 3: 0.002, 4: 0.0, 5: 0.0, 6: 0.001, 7: 0.002, 8: 0.002, 9: 0.0}\n"
     ]
    }
   ],
   "source": [
    "server.start()\n",
    "time.sleep(30)\n",
    "\n",
    "for img in x_test[0:3]: \n",
    "    plt.imshow(img)\n",
    "    predicted = client.predict(\n",
    "        data_input={'input_layer': img.reshape(28, 28)}\n",
    "    )\n",
    "    plt.show()\n",
    "    print(dict(zip(np.arange(10), predicted[0].round(3))))"
   ]
  },
  {
   "cell_type": "markdown",
   "metadata": {},
   "source": [
    "## Batch prediction\n",
    "\n",
    "To predict in batches, the `data_input` dictionary has to be specified differently for client images in NDARRAY format. To input a batch of observations, ensure that your inputs are in the NCHW format: number of observations, channels (optional if single channel), height and width. An example is as follows: "
   ]
  },
  {
   "cell_type": "code",
   "execution_count": 14,
   "metadata": {},
   "outputs": [],
   "source": [
    "predicted = client.predict(\n",
    "    data_input={'input_layer': x_test[0:3].reshape(3, 1, 28, 28)}\n",
    ")\n",
    "\n",
    "server.stop()"
   ]
  },
  {
   "cell_type": "markdown",
   "metadata": {},
   "source": [
    "We compare the predicted probabilities and the corresponding labels: "
   ]
  },
  {
   "cell_type": "code",
   "execution_count": 15,
   "metadata": {},
   "outputs": [
    {
     "data": {
      "text/html": [
       "<div>\n",
       "<style scoped>\n",
       "    .dataframe tbody tr th:only-of-type {\n",
       "        vertical-align: middle;\n",
       "    }\n",
       "\n",
       "    .dataframe tbody tr th {\n",
       "        vertical-align: top;\n",
       "    }\n",
       "\n",
       "    .dataframe thead th {\n",
       "        text-align: right;\n",
       "    }\n",
       "</style>\n",
       "<table border=\"1\" class=\"dataframe\">\n",
       "  <thead>\n",
       "    <tr style=\"text-align: right;\">\n",
       "      <th></th>\n",
       "      <th>0</th>\n",
       "      <th>1</th>\n",
       "      <th>2</th>\n",
       "      <th>3</th>\n",
       "      <th>4</th>\n",
       "      <th>5</th>\n",
       "      <th>6</th>\n",
       "      <th>7</th>\n",
       "      <th>8</th>\n",
       "      <th>9</th>\n",
       "    </tr>\n",
       "  </thead>\n",
       "  <tbody>\n",
       "    <tr>\n",
       "      <th>0</th>\n",
       "      <td>0.0</td>\n",
       "      <td>0.000</td>\n",
       "      <td>0.001</td>\n",
       "      <td>0.001</td>\n",
       "      <td>0.0</td>\n",
       "      <td>0.0</td>\n",
       "      <td>0.000</td>\n",
       "      <td>0.998</td>\n",
       "      <td>0.000</td>\n",
       "      <td>0.0</td>\n",
       "    </tr>\n",
       "    <tr>\n",
       "      <th>1</th>\n",
       "      <td>0.0</td>\n",
       "      <td>0.000</td>\n",
       "      <td>0.994</td>\n",
       "      <td>0.006</td>\n",
       "      <td>0.0</td>\n",
       "      <td>0.0</td>\n",
       "      <td>0.000</td>\n",
       "      <td>0.000</td>\n",
       "      <td>0.000</td>\n",
       "      <td>0.0</td>\n",
       "    </tr>\n",
       "    <tr>\n",
       "      <th>2</th>\n",
       "      <td>0.0</td>\n",
       "      <td>0.993</td>\n",
       "      <td>0.001</td>\n",
       "      <td>0.002</td>\n",
       "      <td>0.0</td>\n",
       "      <td>0.0</td>\n",
       "      <td>0.001</td>\n",
       "      <td>0.002</td>\n",
       "      <td>0.002</td>\n",
       "      <td>0.0</td>\n",
       "    </tr>\n",
       "  </tbody>\n",
       "</table>\n",
       "</div>"
      ],
      "text/plain": [
       "     0      1      2      3    4    5      6      7      8    9\n",
       "0  0.0  0.000  0.001  0.001  0.0  0.0  0.000  0.998  0.000  0.0\n",
       "1  0.0  0.000  0.994  0.006  0.0  0.0  0.000  0.000  0.000  0.0\n",
       "2  0.0  0.993  0.001  0.002  0.0  0.0  0.001  0.002  0.002  0.0"
      ]
     },
     "execution_count": 15,
     "metadata": {},
     "output_type": "execute_result"
    }
   ],
   "source": [
    "pd.DataFrame(predicted).round(3)"
   ]
  },
  {
   "cell_type": "code",
   "execution_count": 16,
   "metadata": {},
   "outputs": [
    {
     "data": {
      "text/plain": [
       "array([7, 2, 1], dtype=uint8)"
      ]
     },
     "execution_count": 16,
     "metadata": {},
     "output_type": "execute_result"
    }
   ],
   "source": [
    "y_test[0:3]"
   ]
  }
 ],
 "metadata": {
  "kernelspec": {
   "display_name": "Python 3",
   "language": "python",
   "name": "python3"
  },
  "language_info": {
   "codemirror_mode": {
    "name": "ipython",
    "version": 3
   },
   "file_extension": ".py",
   "mimetype": "text/x-python",
   "name": "python",
   "nbconvert_exporter": "python",
   "pygments_lexer": "ipython3",
   "version": "3.7.5"
  }
 },
 "nbformat": 4,
 "nbformat_minor": 4
}
