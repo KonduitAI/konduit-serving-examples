{
 "cells": [
  {
   "cell_type": "markdown",
   "metadata": {},
   "source": [
    "# Konduit Serving Model Runtime with YAML Configuration\n",
    "\n",
    "Konduit supports specifying server configurations as YAML files. This allows you to serve simple server configurations using: \n",
    "1. the Konduit Python CLI, and   \n",
    "2. the `konduit.load` module. \n",
    "\n",
    "The YAMLs on this page can be used as boilerplate code for your model serving use cases. \n",
    "\n",
    "Some resources on the YAML format are as follows: \n",
    "- https://gettaurus.org/docs/YAMLTutorial/\n",
    "- https://docs.saltstack.com/en/latest/topics/yaml/\n",
    "- http://jessenoller.com/blog/2009/04/13/yaml-aint-markup-language-completely-different"
   ]
  },
  {
   "cell_type": "code",
   "execution_count": 1,
   "metadata": {},
   "outputs": [],
   "source": [
    "from PIL import Image \n",
    "import numpy as np \n",
    "import os\n",
    "from konduit.load import server_from_file, client_from_file\n",
    "import matplotlib.pyplot as plt"
   ]
  },
  {
   "cell_type": "code",
   "execution_count": 2,
   "metadata": {},
   "outputs": [],
   "source": [
    "from urllib.request import urlretrieve \n",
    "from zipfile import ZipFile\n",
    "dl_path = \"../data/bert/bert.zip\"\n",
    "if not os.path.isfile(dl_path):\n",
    "    urlretrieve(\"https://deeplearning4jblob.blob.core.windows.net/testresources/bert_mrpc_frozen_v1.zip\", \n",
    "                dl_path)\n",
    "with ZipFile(dl_path, 'r') as zipObj:\n",
    "    zipObj.extractall()"
   ]
  },
  {
   "cell_type": "markdown",
   "metadata": {},
   "source": [
    "A Konduit Serving YAML configuration file has three top-level entities: \n",
    "1. `serving`\n",
    "2. `steps`\n",
    "2. `client`\n",
    "\n",
    "The following is a sample YAML file for serving a Python script located at `simple.py` which takes a NumPy array `first` as input and a NumPy array `second` as output:"
   ]
  },
  {
   "cell_type": "markdown",
   "metadata": {},
   "source": [
    "```yaml\n",
    "serving:\n",
    "  http_port: 1337\n",
    "  input_data_format: NUMPY\n",
    "  output_data_format: NUMPY\n",
    "  log_timings: True\n",
    "  extra_start_args: -Xmx8g\n",
    "steps:\n",
    "  python_step:\n",
    "    type: PYTHON\n",
    "    python_code_path: ./simple.py\n",
    "    python_inputs:\n",
    "      first: NDARRAY\n",
    "    python_outputs:\n",
    "      second: NDARRAY\n",
    "client:\n",
    "    port: 1337\n",
    "```\n"
   ]
  },
  {
   "cell_type": "markdown",
   "metadata": {},
   "source": [
    "## Serving \n",
    "\n",
    "The server configuration takes the following arguments: \n",
    "\n",
    "- `http_port`: specify the port number \n",
    "- `input_data_format` and `output_data_format`: specify one of the following: JSON, NUMPY, ARROW, IMAGE\n",
    "- `log_timings`: specify True to log timings \n",
    "- `extra_start_args`: Java Virtual Machine (JVM) arguments. In this case, `-Xmx8g` specifies that the maximum memory allocation for the JVM is 8GB. \n",
    "\n",
    "\n",
    "Refer to the [Server](https://serving.oss.konduit.ai/server/inference) documentation for details. \n",
    "\n",
    "\n",
    "## Client \n",
    "\n",
    "Refer to the [Client](https://serving.oss.konduit.ai/client/python-client) documentation for details. \n",
    "\n",
    "- `input_names`, `output_names`: names of the first and final nodes of the Konduit Serving pipeline configuration defined in the Server. These arguments are typically inherited from the Server when initialized. \n",
    "- `input_data_format`, `output_data_format`, `return_output_data_format`: One of the following: JSON, NUMPY, ARROW, IMAGE. `input_data_format` and `output_data_format` refer to the format of the server's input and output, whereas `return_output_data_format` specifies the data format returned to the client. \n",
    "- `port`: specify the same HTTP port as the Server. "
   ]
  },
  {
   "cell_type": "markdown",
   "metadata": {},
   "source": [
    "## Running YAML configurations \n",
    "\n",
    "A Konduit Serving instance can be started using \n",
    "\n",
    "```python\n",
    "server = server_from_file(konduit_yaml_path)\n",
    "```\n",
    "\n",
    "assuming the path of your YAML configuration is specified in `konduit_yaml_path`. \n",
    "\n",
    "Note that the file also contains Client configuration. To create a Client object, run the following code: \n",
    "\n",
    "```python\n",
    "client = client_from_file(konduit_yaml_path)\n",
    "```\n",
    "\n",
    "Now your data can be passed to `client` for prediction using: \n",
    "\n",
    "```python\n",
    "client.predict(data_input)\n",
    "```\n",
    "\n",
    "where `data_input` is a dictionary. \n",
    "\n",
    "If the input name is `default`, a NumPy array can be directly passed to the `.predict()` method. "
   ]
  },
  {
   "cell_type": "markdown",
   "metadata": {},
   "source": [
    "# PythonStep\n",
    "\n",
    "Python steps can take any argument that can be passed to `PythonConfig`.  \n",
    "Specify a Python step as follows: \n",
    "\n",
    "```yaml\n",
    "steps: \n",
    "  python_step: \n",
    "    type: PYTHON\n",
    "    python_code: simple.py \n",
    "```\n",
    "\n",
    "- `type`: specify this as PYTHON\n",
    "- `python_code`: if you want to specify your Python code directly in your YAML file. The following [documentation](http://blogs.perl.org/users/tinita/2018/03/strings-in-yaml---to-quote-or-not-to-quote.html) may be helpful for specifying multi-line Python code, specifically the section on literal block scalars.\n",
    "- `python_code_path`: specify the path of a Python `.py` script. \n",
    "- `python_inputs`: name-value pairs specifying the data types for each of the inputs referenced in the script \n",
    "- `python_outputs`: name-value pairs specifying the data types for each of the outputs referenced in the script\n",
    "- `python_path`: location of the Python modules. Generally, if your script only requires NumPy, setting a custom `python_path` is not necessary. Refer to the [Python modules](https://serving.oss.konduit.ai/python#python-modules-and-the-pythonpath-argument) documentation on setting a custom Python path with additional modules. \n",
    "\n",
    "The names referenced in `python_inputs` and `python_outputs` correspond with `inputColumnNames` and `outputColumnNames`.  Modifying `python_inputs` and `python_outputs` does not modify the input and output name of the step. `input_names` and `output_names` are arguments to `PythonStep` which cannot be accessed through the YAML configuration, and default to the name `default`. "
   ]
  },
  {
   "cell_type": "markdown",
   "metadata": {},
   "source": [
    "## Example 1: Array operation\n",
    "\n",
    "```yaml\n",
    "serving:\n",
    "  http_port: 1337\n",
    "  input_data_format: NUMPY\n",
    "  output_data_format: NUMPY\n",
    "  log_timings: True\n",
    "  extra_start_args: -Xmx8g\n",
    "steps:\n",
    "  python_step:\n",
    "    type: PYTHON\n",
    "    python_code_path: ./simple.py\n",
    "    python_inputs:\n",
    "      first: NDARRAY\n",
    "    python_outputs:\n",
    "      second: NDARRAY\n",
    "client:\n",
    "    port: 1337\n",
    "```"
   ]
  },
  {
   "cell_type": "code",
   "execution_count": 3,
   "metadata": {},
   "outputs": [
    {
     "name": "stdout",
     "output_type": "stream",
     "text": [
      "Starting server....\n",
      "\n",
      "Server has started successfully.\n",
      "35\n"
     ]
    }
   ],
   "source": [
    "input_arr = np.array(33)\n",
    "\n",
    "konduit_yaml_path = \"../yaml/simple.yaml\"\n",
    "server = server_from_file(konduit_yaml_path)\n",
    "client = client_from_file(konduit_yaml_path)\n",
    "print(client.predict(input_arr))\n",
    "server.stop()\n",
    "\n",
    "np.save(\"../data/simple/input_arr.npy\", input_arr)"
   ]
  },
  {
   "cell_type": "markdown",
   "metadata": {},
   "source": [
    "## Example 2: PyTorch and ONNX Runtime\n",
    "\n",
    "The following is a sample YAML for serving a PyTorch model using a Python script.\n",
    "\n",
    "```yaml\n",
    "serving:\n",
    "  http_port: 1337\n",
    "  input_data_format: NUMPY\n",
    "  output_data_format: NUMPY\n",
    "  log_timings: True\n",
    "  extra_start_args: -Xmx8g\n",
    "steps:\n",
    "  python_step:\n",
    "    type: PYTHON\n",
    "    python_path: .\n",
    "    python_code_path: ../python/pytorch.py\n",
    "    python_inputs:\n",
    "      image: NDARRAY\n",
    "    python_outputs:\n",
    "      img_out_y: NDARRAY\n",
    "client:\n",
    "    port: 1337\n",
    "```\n",
    "\n",
    "Note the following: \n",
    "- The `python_path` has been left out intentionally. Replace this following the instructions in the [Python modules documentation](https://serving.oss.konduit.ai/python#python-modules-and-the-pythonpath-argument), making sure that ONNX and PyTorch are installed in said Python environment. Refer to the [PyTorch quickstart](https://pytorch.org/).\n",
    "- The YAML file referenced below shows how to use YAML literal blocks to embed the Python code within your YAML file. \n",
    "\n",
    "Refer to the [ONNX Runtime](https://serving.oss.konduit.ai/examples/onnx) page for complete documentation."
   ]
  },
  {
   "cell_type": "code",
   "execution_count": 4,
   "metadata": {},
   "outputs": [
    {
     "name": "stdout",
     "output_type": "stream",
     "text": [
      "Starting server..\n",
      "\n",
      "Server has started successfully.\n",
      "[[[ 0.00601701  0.00688479  0.02177745  0.03408115]\n",
      "  [-0.0018133  -0.00657785  0.03698186  0.05206966]\n",
      "  [-0.01035942 -0.01786287  0.04902049  0.06799769]\n",
      "  ...\n",
      "  [ 0.7294515   0.6165271   1.0584102   1.1059598 ]\n",
      "  [ 0.65046376  0.48442802  1.141786    1.2248938 ]\n",
      "  [ 0.5633501   0.37209463  1.2047783   1.2747201 ]]]\n"
     ]
    }
   ],
   "source": [
    "im = Image.open(\"../data/facedetector/1.jpg\")\n",
    "im = np.array(im).astype(\"int\")\n",
    "\n",
    "konduit_yaml_path = \"../yaml/pytorch.yaml\"\n",
    "server = server_from_file(konduit_yaml_path)\n",
    "client = client_from_file(konduit_yaml_path)\n",
    "print(client.predict(im))\n",
    "server.stop()"
   ]
  },
  {
   "cell_type": "markdown",
   "metadata": {},
   "source": [
    "# ModelStep\n",
    "\n",
    "## Deeplearning4j\n",
    "A Deeplearning4j model step can be specified as follows: \n",
    "\n",
    "```yaml\n",
    "steps:\n",
    "  dl4j_mln_step:\n",
    "    type: MULTI_LAYER_NETWORK\n",
    "    model_loading_path: ../data/multilayernetwork/SimpleCNN.zip\n",
    "    input_names: \n",
    "    - image_array\n",
    "    output_names: \n",
    "    - output\n",
    "    input_data_types:\n",
    "      image_array: FLOAT\n",
    "```\n",
    "\n",
    "Depending on the type of model, specify a `dl4j_mln_step` or a `dl4j_cg_step` for MultiLayerNetwork and ComputationGraph models respectively. \n",
    "\n",
    "\n",
    "- `type`: `MULTI_LAYER_NETWORK` or `COMPUTATION_GRAPH`\n",
    "- `model_loading_path`: location of model weights \n",
    "- `input_names` and `output_names`: name of input and output nodes. See [here](https://serving.oss.konduit.ai/examples/dl4j#configuring-modelstep) for details on obtaining the names of input and output nodes. \n",
    "- `input_data_types`: map input nodes to data types. List of accepted data types are available [here](https://github.com/KonduitAI/konduit-serving/blob/master/konduit-serving-api/src/main/java/ai/konduit/serving/model/TensorDataType.java).\n",
    "\n"
   ]
  },
  {
   "cell_type": "markdown",
   "metadata": {},
   "source": [
    "The following is a sample YAML file for serving a Deeplearning4j model:\n",
    "\n",
    "```yaml\n",
    "steps:\n",
    "  dl4j_mln_step:\n",
    "    type: MULTI_LAYER_NETWORK\n",
    "    model_loading_path: ../data/multilayernetwork/SimpleCNN.zip\n",
    "    input_names: \n",
    "    - image_array\n",
    "    output_names: \n",
    "    - output\n",
    "    input_data_types:\n",
    "      image_array: FLOAT\n",
    "```"
   ]
  },
  {
   "cell_type": "code",
   "execution_count": 5,
   "metadata": {},
   "outputs": [
    {
     "name": "stdout",
     "output_type": "stream",
     "text": [
      "Starting server...\n",
      "\n",
      "Server has started successfully.\n",
      "[[4.1334968e-02 3.2425719e-01 2.5129888e-02 3.9935028e-05 6.0923803e-01]]\n"
     ]
    }
   ],
   "source": [
    "rand_image = np.random.randint(255, size=(1, 3, 224, 224)) / 255\n",
    "konduit_yaml_path = \"../yaml/deeplearning4j.yaml\"\n",
    "server = server_from_file(konduit_yaml_path)\n",
    "client = client_from_file(konduit_yaml_path)\n",
    "print(client.predict({\"image_array\": rand_image}))\n",
    "server.stop()"
   ]
  },
  {
   "cell_type": "markdown",
   "metadata": {},
   "source": [
    "## Tensorflow Graph ('frozen model')\n",
    "\n",
    "Konduit Serving supports loading models saved in the TensorFlow Graph format. See the [relevant documentation](https://serving.oss.konduit.ai/examples/tensorflow-model-serving/tf-mnist) on how to save models in the TensorFlow Graph format. \n",
    "\n",
    "Declare a TensorFlow step in your YAML file as follows: \n",
    "\n",
    "- `type`: set `type` as `TENSORFLOW`\n",
    "- `model_loading_path`: location of the model weights \n",
    "- `input_names`, `output_names`: a list of the input and output nodes \n",
    "- `input_data_types`: maps input nodes to the corresponding [data type](https://github.com/KonduitAI/konduit-serving/blob/master/konduit-serving-api/src/main/java/ai/konduit/serving/model/TensorDataType.java)\n",
    "- `parallel_inference_config`: specify the number of workers to run in parallel \n",
    "\n",
    "### Example 1: MNIST classifier\n",
    "```yaml\n",
    "steps:\n",
    "  tensorflow_step:\n",
    "    type: TENSORFLOW\n",
    "    model_loading_path: ../data/mnist/mnist_2.0.0.pb\n",
    "    input_names:\n",
    "      - input_layer\n",
    "    output_names:\n",
    "      - output_layer/Softmax\n",
    "    input_data_types:\n",
    "      input_layer: FLOAT\n",
    "    parallel_inference_config:\n",
    "      workers: 1\n",
    "```\n",
    "\n",
    "We can start a Konduit Serving instance as follows: "
   ]
  },
  {
   "cell_type": "code",
   "execution_count": 6,
   "metadata": {},
   "outputs": [
    {
     "name": "stdout",
     "output_type": "stream",
     "text": [
      "Starting server....\n",
      "\n",
      "Server has started successfully.\n"
     ]
    }
   ],
   "source": [
    "img = np.load(\"../data/mnist/input_layer.npy\")\n",
    "konduit_yaml_path = \"../yaml/tensorflow-mnist.yaml\"\n",
    "server = server_from_file(konduit_yaml_path)\n",
    "client = client_from_file(konduit_yaml_path)"
   ]
  },
  {
   "cell_type": "code",
   "execution_count": 7,
   "metadata": {},
   "outputs": [
    {
     "data": {
      "image/png": "[encoded data removed]",
      "text/plain": [
       "<Figure size 432x288 with 1 Axes>"
      ]
     },
     "metadata": {
      "needs_background": "light"
     },
     "output_type": "display_data"
    },
    {
     "name": "stdout",
     "output_type": "stream",
     "text": [
      "{0: 0.0, 1: 0.0, 2: 0.001, 3: 0.001, 4: 0.0, 5: 0.0, 6: 0.0, 7: 0.998, 8: 0.0, 9: 0.0}\n"
     ]
    }
   ],
   "source": [
    "plt.imshow(img)\n",
    "predicted = client.predict(\n",
    "    data_input={'input_layer': np.expand_dims(img, axis=0)}\n",
    ")\n",
    "plt.show()\n",
    "print(dict(zip(np.arange(10), predicted[0].round(3))))\n",
    "    \n",
    "server.stop()"
   ]
  },
  {
   "cell_type": "markdown",
   "metadata": {},
   "source": [
    "### Example 2: Multiple input nodes \n",
    "\n",
    "A sample YAML serving a TensorFlow Graph model with multiple input nodes."
   ]
  },
  {
   "cell_type": "markdown",
   "metadata": {},
   "source": [
    "```yaml \n",
    "steps:\n",
    "  tensorflow_step:\n",
    "    type: TENSORFLOW\n",
    "    model_loading_path: bert_mrpc_frozen.pb\n",
    "    input_names:\n",
    "      - IteratorGetNext:0\n",
    "      - IteratorGetNext:1\n",
    "      - IteratorGetNext:4\n",
    "    output_names:\n",
    "      - loss/Softmax\n",
    "    input_data_types:\n",
    "      IteratorGetNext:0: INT32\n",
    "      IteratorGetNext:1: INT32\n",
    "      IteratorGetNext:4: INT32\n",
    "    parallel_inference_config:\n",
    "      workers: 1\n",
    "```"
   ]
  },
  {
   "cell_type": "code",
   "execution_count": 8,
   "metadata": {},
   "outputs": [
    {
     "name": "stdout",
     "output_type": "stream",
     "text": [
      "Starting server.........................\n",
      "\n",
      "Server has started successfully.\n",
      "[[9.9858320e-01 1.4168088e-03]\n",
      " [8.8414288e-04 9.9911588e-01]\n",
      " [9.9859291e-01 1.4070126e-03]\n",
      " [9.9752253e-01 2.4774617e-03]]\n"
     ]
    }
   ],
   "source": [
    "konduit_yaml_path = \"../yaml/tensorflow-bert.yaml\"\n",
    "server = server_from_file(konduit_yaml_path)\n",
    "client = client_from_file(konduit_yaml_path)\n",
    "\n",
    "data_input = {\n",
    "    'IteratorGetNext:0': np.expand_dims(np.load('../data/bert/input-0.npy'), axis=0),\n",
    "    'IteratorGetNext:1': np.expand_dims(np.load('../data/bert/input-1.npy'), axis=0),\n",
    "    'IteratorGetNext:4': np.expand_dims(np.load('../data/bert/input-4.npy'), axis=0)\n",
    "}\n",
    "\n",
    "print(client.predict(data_input))\n",
    "server.stop()"
   ]
  },
  {
   "cell_type": "markdown",
   "metadata": {},
   "source": [
    "## Keras \n",
    "\n",
    "Konduit Serving supports Keras HDF5 models via Deeplearning4J model import. The following is a sample YAML file for serving a Keras model: \n",
    "\n",
    "- `type`: specify this as `KERAS`\n",
    "- `model_loading_path`: location of the model weights \n",
    "- `input_names`, `output_names`: names for the input and output nodes, as lists  \n",
    "\n",
    "Input and output names can be obtained by visualizing the graph in [Netron](https://github.com/lutzroeder/netron). \n",
    "\n",
    "```yaml\n",
    "steps:\n",
    "  keras_step:\n",
    "    type: KERAS\n",
    "    model_loading_path: ../data/keras/embedding_lstm_tensorflow_2.h5\n",
    "    input_names:\n",
    "    - input \n",
    "    output_names:\n",
    "    - lstm_1\n",
    "\n",
    "```\n",
    "\n",
    "This YAML can be served using the `konduit.load` module: "
   ]
  },
  {
   "cell_type": "code",
   "execution_count": 9,
   "metadata": {},
   "outputs": [
    {
     "name": "stdout",
     "output_type": "stream",
     "text": [
      "Starting server...\n",
      "\n",
      "Server has started successfully.\n",
      "[[[-3.53171281e-03 -6.55398145e-03 -9.07615386e-03 -1.11385630e-02\n",
      "   -1.27962595e-02 -1.41087854e-02 -1.51341194e-02 -1.59251783e-02\n",
      "   -1.65283810e-02 -1.69831831e-02]\n",
      "  [-8.98816856e-04 -2.16921209e-03 -3.50447348e-03 -4.74313367e-03\n",
      "   -5.81311202e-03 -6.69444632e-03 -7.39536854e-03 -7.93745089e-03\n",
      "   -8.34691338e-03 -8.64967890e-03]\n",
      "  [ 4.57964110e-04  7.27277948e-04  8.35937157e-04  8.26211413e-04\n",
      "    7.38725299e-04  6.06592686e-04  4.54327965e-04  2.98691681e-04\n",
      "    1.50312349e-04  1.51993027e-05]\n",
      "  [-3.72108625e-04 -7.85349868e-04 -1.15279201e-03 -1.44809973e-03\n",
      "   -1.67194800e-03 -1.83526019e-03 -1.95118226e-03 -2.03184737e-03\n",
      "   -2.08712765e-03 -2.12461245e-03]\n",
      "  [-1.70938822e-03 -2.67439662e-03 -3.14217363e-03 -3.29596084e-03\n",
      "   -3.26494290e-03 -3.13617825e-03 -2.96555483e-03 -2.78691365e-03\n",
      "   -2.61911890e-03 -2.47139740e-03]\n",
      "  [ 4.90737101e-03  8.10048729e-03  1.01506319e-02  1.14426687e-02\n",
      "    1.22359265e-02  1.27047608e-02  1.29658673e-02  1.30968681e-02\n",
      "    1.31488722e-02  1.31550385e-02]]]\n"
     ]
    }
   ],
   "source": [
    "input_array = np.random.uniform(size = [10])\n",
    "np.save(\"../data/keras/input.npy\", input_array)\n",
    "konduit_yaml_path = \"../yaml/keras.yaml\"\n",
    "server = server_from_file(konduit_yaml_path)\n",
    "client = client_from_file(konduit_yaml_path)\n",
    "print(client.predict({\"input\": np.expand_dims(input_array, axis=0)}))\n",
    "\n",
    "server.stop()"
   ]
  },
  {
   "cell_type": "code",
   "execution_count": null,
   "metadata": {},
   "outputs": [],
   "source": []
  }
 ],
 "metadata": {
  "kernelspec": {
   "display_name": "Python 3",
   "language": "python",
   "name": "python3"
  },
  "language_info": {
   "codemirror_mode": {
    "name": "ipython",
    "version": 3
   },
   "file_extension": ".py",
   "mimetype": "text/x-python",
   "name": "python",
   "nbconvert_exporter": "python",
   "pygments_lexer": "ipython3",
   "version": "3.7.5"
  }
 },
 "nbformat": 4,
 "nbformat_minor": 4
}
